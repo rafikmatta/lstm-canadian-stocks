{
 "cells": [
  {
   "cell_type": "code",
   "execution_count": null,
   "metadata": {},
   "outputs": [],
   "source": [
    "import pandas as pd\n",
    "import numpy as np\n",
    "import matplotlib.pyplot as plt\n",
    "from pandas.tseries.offsets import *\n",
    "from scipy import stats"
   ]
  },
  {
   "cell_type": "code",
   "execution_count": null,
   "metadata": {},
   "outputs": [],
   "source": [
    "import datetime\n",
    "import json\n",
    "import urllib\n",
    "import pandas as pd\n",
    "import time\n",
    "import numpy as np\n",
    "import warnings\n",
    "\n",
    "\n",
    "token = 'LRC3I7BREUJV9NU8'\n",
    "warnings.filterwarnings(\"ignore\")\n",
    "\n",
    "def request_until_succeed(url):\n",
    "    success = False\n",
    "    while success is False:\n",
    "        response = urllib.request.urlopen(url)\n",
    "        if response.getcode() == 200:\n",
    "            success = True\n",
    "    return response.read()\n",
    "\n",
    "\n",
    "def data_collect(symbol_list, since, until, value):\n",
    "\n",
    "    opts = {\n",
    "        'open': '1. open',\n",
    "        'high': '2. high',\n",
    "        'low': '3. low',\n",
    "        'close': '4. close',\n",
    "        'adj_close': '5. adjusted close'}\n",
    "\n",
    "    body = 'https://www.alphavantage.co/query?function=TIME_SERIES_DAILY_ADJUSTED&symbol='\n",
    "    tail = '&outputsize=full&apikey='\n",
    "\n",
    "    dates = []\n",
    "    start = datetime.datetime.strptime(since, '%Y-%m-%d')\n",
    "    end = datetime.datetime.strptime(until, '%Y-%m-%d')\n",
    "    date_generated = [start + datetime.timedelta(days=x) for x in range(0, (end - start).days + 1)]\n",
    "\n",
    "    for date in date_generated:\n",
    "        dates.append(date.strftime(\"%Y-%m-%d\"))\n",
    "\n",
    "    dataset = pd.DataFrame()\n",
    "    dataset['date'] = dates\n",
    "    dataset = dataset.set_index(dataset['date'])\n",
    "    dataset = dataset.drop('date', axis=1)\n",
    "\n",
    "    count = 1\n",
    "    for symbol in symbol_list:\n",
    "        print (str(count) + '. ' + symbol)\n",
    "        url = body + symbol + tail + token\n",
    "        data = json.loads(request_until_succeed(url))\n",
    "        dataset[symbol] = 0.0000\n",
    "        for trade in dataset.index:\n",
    "            if 'Time Series (Daily)' in data and trade in data['Time Series (Daily)']:\n",
    "                dataset.loc[trade, symbol] = data['Time Series (Daily)'][trade][opts[value]]\n",
    "        count += 1\n",
    "    dataset = dataset[(dataset.T != 0).any()]\n",
    "\n",
    "    return dataset\n",
    "\n"
   ]
  },
  {
   "cell_type": "code",
   "execution_count": null,
   "metadata": {},
   "outputs": [],
   "source": [
    "import re\n",
    "count = 0\n",
    "\n",
    "tickers = pd.read_csv('TSX_Constituents_05202019.csv')\n",
    "tickers = list(tickers.Symbol)\n",
    "symbol_list = []\n",
    "for ticker in tickers:\n",
    "    test2 = str(ticker).endswith('.UN')\n",
    "    test3 = str(ticker).endswith('.X')\n",
    "    test4 = str(ticker).endswith('.B')\n",
    "    test5 = str(ticker).endswith('.A')\n",
    "    if not test2 and not test3 and not test4 and not test5:\n",
    "        ticker = str(ticker) + '.TO'\n",
    "    symbol_list.append(ticker)"
   ]
  },
  {
   "cell_type": "code",
   "execution_count": null,
   "metadata": {},
   "outputs": [],
   "source": [
    "since = '2019-05-15'\n",
    "until = '2019-05-16'\n",
    "value = 'adj_close'\n",
    "dataset = data_collect(symbol_list, since, until, value)"
   ]
  },
  {
   "cell_type": "code",
   "execution_count": null,
   "metadata": {},
   "outputs": [],
   "source": [
    "dataset"
   ]
  },
  {
   "cell_type": "code",
   "execution_count": null,
   "metadata": {},
   "outputs": [],
   "source": [
    "since = '2019-05-15'\n",
    "until = '2019-05-16'\n",
    "value = 'adj_close'\n",
    "dataset = data_collect(['ASR.TO'], since, until, value)\n",
    "dataset"
   ]
  }
 ],
 "metadata": {
  "kernelspec": {
   "display_name": "Python 3",
   "language": "python",
   "name": "python3"
  },
  "language_info": {
   "codemirror_mode": {
    "name": "ipython",
    "version": 3
   },
   "file_extension": ".py",
   "mimetype": "text/x-python",
   "name": "python",
   "nbconvert_exporter": "python",
   "pygments_lexer": "ipython3",
   "version": "3.7.3"
  }
 },
 "nbformat": 4,
 "nbformat_minor": 2
}
