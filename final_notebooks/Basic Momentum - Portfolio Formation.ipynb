{
 "cells": [
  {
   "cell_type": "markdown",
   "metadata": {
    "colab_type": "text",
    "id": "ZUHwwt788gBz"
   },
   "source": [
    "## Initialize and Import Libraries"
   ]
  },
  {
   "cell_type": "code",
   "execution_count": null,
   "metadata": {
    "colab": {
     "base_uri": "https://localhost:8080/",
     "height": 122
    },
    "colab_type": "code",
    "executionInfo": {
     "elapsed": 40162,
     "status": "ok",
     "timestamp": 1565563176622,
     "user": {
      "displayName": "Rafik Matta",
      "photoUrl": "",
      "userId": "06643372443318823080"
     },
     "user_tz": 240
    },
    "id": "pZRda9IRIv0u",
    "outputId": "c594bda4-bcf5-4b35-fb3c-589bb82701a8"
   },
   "outputs": [],
   "source": [
    "################################################\n",
    "# Jegadeesh & Titman (1993) Momentum Portfolio #\n",
    "# May 2018                                     #  \n",
    "# Qingyi (Freda) Song Drechsler                #\n",
    "################################################\n",
    "\n",
    "import time, sys, os, pprint\n",
    "import numpy as np\n",
    "import matplotlib.pyplot as plt\n",
    "import pandas as pd\n",
    "from pandas.tseries.offsets import *\n",
    "from scipy import stats\n",
    "import warnings\n",
    "from google.colab import drive\n",
    "from sklearn import metrics\n",
    "from IPython.display import clear_output\n",
    "\n",
    "warnings.filterwarnings(\"ignore\")\n",
    "drive.mount('/content/gdrive')"
   ]
  },
  {
   "cell_type": "code",
   "execution_count": null,
   "metadata": {
    "colab": {},
    "colab_type": "code",
    "id": "xGhiG9ld9vPC"
   },
   "outputs": [],
   "source": [
    "def update_progress(progress):\n",
    "    bar_length = 20\n",
    "    if isinstance(progress, int):\n",
    "        progress = float(progress)\n",
    "    if not isinstance(progress, float):\n",
    "        progress = 0\n",
    "    if progress < 0:\n",
    "        progress = 0\n",
    "    if progress >= 1:\n",
    "        progress = 1\n",
    "        \n",
    "    block = int(round(bar_length * progress))\n",
    "    clear_output(wait = True)\n",
    "    text = \"Progress: [{0}] {1:.1f}%\".format( \"#\" * block + \"-\" * (bar_length - block), progress * 100)\n",
    "    print(text)"
   ]
  },
  {
   "cell_type": "markdown",
   "metadata": {
    "colab_type": "text",
    "id": "bIc7vDe38-ZU"
   },
   "source": [
    "## Load Data "
   ]
  },
  {
   "cell_type": "code",
   "execution_count": null,
   "metadata": {
    "colab": {},
    "colab_type": "code",
    "id": "Q3qYgNi-Iv02"
   },
   "outputs": [],
   "source": [
    "chass_monthly_file_location = os.path.join(\"/content/gdrive/My Drive/1977monthly.csv\")\n",
    "data_extract_monthly = pd.read_csv(chass_monthly_file_location)\n",
    "data_extract_monthly['datadate'] =  pd.to_datetime(data_extract_monthly['datadate'])\n",
    "\n",
    "tsx_constituents_file_location = os.path.join(\"/content/gdrive/My Drive/constituents_tsx.csv\")\n",
    "tsx_constituents = pd.read_csv(tsx_constituents_file_location)\n",
    "tsx_constituents['from'] =  pd.to_datetime(tsx_constituents['from'], format='%m/%d/%Y')\n",
    "tsx_constituents['thru'] =  pd.to_datetime(tsx_constituents['thru'], format='%m/%d/%Y')\n",
    "tsx_constituents =tsx_constituents[tsx_constituents['conm'] == 'S&P/TSX Composite Index']"
   ]
  },
  {
   "cell_type": "code",
   "execution_count": null,
   "metadata": {
    "colab": {
     "base_uri": "https://localhost:8080/",
     "height": 85
    },
    "colab_type": "code",
    "executionInfo": {
     "elapsed": 2746,
     "status": "ok",
     "timestamp": 1565563183612,
     "user": {
      "displayName": "Rafik Matta",
      "photoUrl": "",
      "userId": "06643372443318823080"
     },
     "user_tz": 240
    },
    "id": "pOekPP21Iv1A",
    "outputId": "dbc2d8b3-14bf-4ffa-f3ae-a7ec68a34270"
   },
   "outputs": [],
   "source": [
    "print('\\nnumber of different stocks: ', len(list(set(data_extract_monthly.ticker))))\n",
    "print('\\ntotal number of months: ', len(list(set(data_extract_monthly.datadate))))"
   ]
  },
  {
   "cell_type": "markdown",
   "metadata": {
    "colab_type": "text",
    "id": "6w1vVfdy9BiO"
   },
   "source": [
    "### Map S&P TSX Composite Constituents and Create Time Series\n"
   ]
  },
  {
   "cell_type": "code",
   "execution_count": null,
   "metadata": {
    "colab": {},
    "colab_type": "code",
    "id": "xVI69I5OV3fa"
   },
   "outputs": [],
   "source": [
    "temp1 = data_extract_monthly[data_extract_monthly['cusip'].isin(tsx_constituents['co_cusip'])]\n",
    "temp2 = data_extract_monthly[data_extract_monthly['ticker'].isin(tsx_constituents['co_tic'])]\n",
    "temp3 = pd.concat([temp1,temp2]).drop_duplicates().reset_index()\n",
    "test = temp3.pivot_table(index='datadate', columns='ticker', values='prc_mret')\n",
    "stock_list_monthly = test.columns"
   ]
  },
  {
   "cell_type": "code",
   "execution_count": null,
   "metadata": {
    "colab": {
     "base_uri": "https://localhost:8080/",
     "height": 34
    },
    "colab_type": "code",
    "executionInfo": {
     "elapsed": 1045,
     "status": "ok",
     "timestamp": 1565563184323,
     "user": {
      "displayName": "Rafik Matta",
      "photoUrl": "",
      "userId": "06643372443318823080"
     },
     "user_tz": 240
    },
    "id": "T0msqHFn0hD4",
    "outputId": "1861df06-c5ad-49f4-acd9-e78232ba312d"
   },
   "outputs": [],
   "source": [
    "len(stock_list_monthly)"
   ]
  },
  {
   "cell_type": "code",
   "execution_count": null,
   "metadata": {
    "colab": {},
    "colab_type": "code",
    "id": "CcsGwHs7FYpS"
   },
   "outputs": [],
   "source": [
    "def is_member(temp3):\n",
    "  stock = temp3['ticker']\n",
    "  stock_cusip = temp3['cusip']\n",
    "    \n",
    "  stock_dates_from = tsx_constituents[tsx_constituents['co_cusip'] == stock_cusip]['from']\n",
    "  if len(stock_dates_from.values) == 0:\n",
    "      stock_dates_from = tsx_constituents[tsx_constituents['co_tic'] == stock]['from']\n",
    "  stock_dates_thru = tsx_constituents[tsx_constituents['co_cusip'] == stock_cusip]['thru']\n",
    "  if len(stock_dates_thru.values) == 0:\n",
    "      stock_dates_thru = tsx_constituents[tsx_constituents['co_tic'] == stock]['thru']\n",
    "    \n",
    "  stock_dates_thru = stock_dates_thru.fillna(pd.to_datetime('today'))\n",
    "    \n",
    "  total_return = 0 \n",
    "  for i in range(0,len(stock_dates_from)):\n",
    "      total_return = total_return + np.where(\n",
    "          (temp3['datadate'] >= pd.to_datetime(stock_dates_from.values[i])) \n",
    "          & (temp3['datadate'] <= pd.to_datetime(stock_dates_thru.values[i])), 1, 0)\n",
    "         \n",
    "  return total_return"
   ]
  },
  {
   "cell_type": "code",
   "execution_count": null,
   "metadata": {
    "colab": {},
    "colab_type": "code",
    "id": "7ntC7RSqIMNM"
   },
   "outputs": [],
   "source": [
    "temp3['is_member'] = temp3.apply(is_member,axis=1)"
   ]
  },
  {
   "cell_type": "code",
   "execution_count": null,
   "metadata": {
    "colab": {},
    "colab_type": "code",
    "id": "yMAC5uPtosFE"
   },
   "outputs": [],
   "source": [
    "result_file_name = \"/content/gdrive/My Drive/consituents_with_members.csv\"\n",
    "temp3.to_csv(result_file_name)"
   ]
  },
  {
   "cell_type": "markdown",
   "metadata": {
    "colab_type": "text",
    "id": "d_nALoEb9S7H"
   },
   "source": [
    "## Portfolio Creation"
   ]
  },
  {
   "cell_type": "code",
   "execution_count": null,
   "metadata": {
    "colab": {},
    "colab_type": "code",
    "id": "w_vbiDRGIv1G"
   },
   "outputs": [],
   "source": [
    "#######################################################\n",
    "# Create Momentum Portfolio                           #   \n",
    "# Measures Based on Past (J) Month Compounded Returns #\n",
    "#######################################################\n",
    "\n",
    "J = 12 # Formation Period Length: J can be between 3 to 12 months\n",
    "K = 12 # Holding Period Length: K can be between 3 to 12 months"
   ]
  },
  {
   "cell_type": "markdown",
   "metadata": {
    "colab_type": "text",
    "id": "dW7mcbuF-xQ-"
   },
   "source": [
    "#### Data Extraction for Returns"
   ]
  },
  {
   "cell_type": "code",
   "execution_count": null,
   "metadata": {
    "colab": {},
    "colab_type": "code",
    "id": "t-epSNkzmJTL"
   },
   "outputs": [],
   "source": [
    "temp = temp3[['ticker','datadate','prc_mret','is_member']].sort_values(['ticker','datadate','prc_mret']).set_index('datadate')\n",
    "\n",
    "# Replace missing return with 0\n",
    "temp['prc_mret']=temp['prc_mret'].fillna(0)\n",
    "temp = temp.dropna(axis = 0)"
   ]
  },
  {
   "cell_type": "code",
   "execution_count": null,
   "metadata": {
    "colab": {
     "base_uri": "https://localhost:8080/",
     "height": 1000
    },
    "colab_type": "code",
    "executionInfo": {
     "elapsed": 595214,
     "status": "ok",
     "timestamp": 1564952963202,
     "user": {
      "displayName": "Rafik Matta",
      "photoUrl": "",
      "userId": "06643372443318823080"
     },
     "user_tz": 240
    },
    "id": "qWu7Y9J3mgeM",
    "outputId": "a29b3b2f-c63b-4407-f36f-52592d1a976f"
   },
   "outputs": [],
   "source": [
    "# Calculate rolling cumulative return\n",
    "# by summing log(1+ret) over the formation period\n",
    "temp['logret']=np.log(1+temp['prc_mret'])\n",
    "umd = temp.groupby(['ticker'])['logret'].rolling(J, min_periods=J).sum()\n",
    "umd = umd.reset_index()\n",
    "umd['cumret']=np.exp(umd['logret'])-1\n",
    "umd['is_member'] = temp.reset_index()['is_member']\n",
    "umd = umd.dropna(axis=0, subset=['cumret'])\n",
    "umd = umd[umd['is_member'] == 1].copy(deep=True)\n",
    "umd = umd.reset_index()\n",
    "umd[umd['ticker'] == 'BCE']"
   ]
  },
  {
   "cell_type": "markdown",
   "metadata": {
    "colab_type": "text",
    "id": "hlxsTkMs_LOM"
   },
   "source": [
    "#### Portfolio Formation"
   ]
  },
  {
   "cell_type": "code",
   "execution_count": null,
   "metadata": {
    "colab": {},
    "colab_type": "code",
    "id": "VnInnQAuIv1T"
   },
   "outputs": [],
   "source": [
    "########################################\n",
    "# Formation of 10 Momentum Portfolios  #\n",
    "########################################\n",
    "\n",
    "# For each date: assign ranking 1-10 based on cumret\n",
    "# 1=lowest 10=highest cumret\n",
    "umd['momr'] = umd.groupby('datadate')['cumret'].transform(lambda x: pd.qcut(x, 10, labels=False,duplicates='drop'))\n",
    "umd = umd.fillna(0)\n",
    "umd.momr = umd.momr.astype(int)\n",
    "umd['momr'] = umd['momr']+1"
   ]
  },
  {
   "cell_type": "code",
   "execution_count": null,
   "metadata": {
    "colab": {},
    "colab_type": "code",
    "id": "zFi80hsf3TYA"
   },
   "outputs": [],
   "source": [
    "umd['form_date']=umd['datadate']\n",
    "umd['medate']=umd['datadate']+MonthEnd(0)\n",
    "umd['hdate1']=umd['medate']+MonthBegin(1)\n",
    "umd['hdate2']=umd['medate']+MonthEnd(K)\n",
    "umd = umd[['ticker','form_date','momr','hdate1','hdate2']]"
   ]
  },
  {
   "cell_type": "code",
   "execution_count": null,
   "metadata": {
    "colab": {},
    "colab_type": "code",
    "id": "-K5luopAIv1h"
   },
   "outputs": [],
   "source": [
    "# join rank and return data together\n",
    "# note: this step consumes a lot of memory so takes a while\n",
    "_tmp_ret = data_extract_monthly[['ticker','datadate','prc_mret']]\n",
    "port = pd.merge(_tmp_ret, umd, on=['ticker'], how='inner')\n",
    "port = port[(port['hdate1']<=port['datadate']) & (port['datadate']<=port['hdate2'])]\n",
    "umd2 = port.sort_values(by=['datadate','momr','form_date','ticker']).drop_duplicates()\n",
    "umd3 = umd2.groupby(['datadate','momr','form_date'])['prc_mret'].mean().reset_index()"
   ]
  },
  {
   "cell_type": "code",
   "execution_count": null,
   "metadata": {
    "colab": {
     "base_uri": "https://localhost:8080/",
     "height": 1000
    },
    "colab_type": "code",
    "executionInfo": {
     "elapsed": 600887,
     "status": "ok",
     "timestamp": 1564952977587,
     "user": {
      "displayName": "Rafik Matta",
      "photoUrl": "",
      "userId": "06643372443318823080"
     },
     "user_tz": 240
    },
    "id": "LlB2g65oGtN7",
    "outputId": "d04cc30e-eb16-4b0a-99dd-900adb1e00b7"
   },
   "outputs": [],
   "source": [
    "# Skip the training years of other models\n",
    "#start_yr = umd3['datadate'].dt.year.min()+1\n",
    "umd3 = umd3[umd3['datadate'] >= '2001-02-01']\n",
    "umd3 = umd3.sort_values(by=['datadate','momr'])"
   ]
  },
  {
   "cell_type": "code",
   "execution_count": null,
   "metadata": {
    "colab": {
     "base_uri": "https://localhost:8080/",
     "height": 390
    },
    "colab_type": "code",
    "executionInfo": {
     "elapsed": 589649,
     "status": "ok",
     "timestamp": 1564952977590,
     "user": {
      "displayName": "Rafik Matta",
      "photoUrl": "",
      "userId": "06643372443318823080"
     },
     "user_tz": 240
    },
    "id": "derIYSzfIv1n",
    "outputId": "b1486933-8913-4b7f-8964-dccb33e14073"
   },
   "outputs": [],
   "source": [
    "# Create one return series per MOM group every month\n",
    "ewret = umd3.groupby(['datadate','momr'])['prc_mret'].mean().reset_index()\n",
    "ewstd = umd3.groupby(['datadate','momr'])['prc_mret'].std().reset_index()\n",
    "ewret = ewret.rename(columns={'prc_mret':'ewret'})\n",
    "ewstd = ewstd.rename(columns={'rereturnt':'ewretstd'})\n",
    "ewretdat = pd.merge(ewret, ewstd, on=['datadate','momr'], how='inner')\n",
    "ewretdat = ewretdat.sort_values(by=['momr'])\n",
    "\n",
    "# portfolio summary\n",
    "ewretdat.groupby(['momr'])['ewret'].describe()[['count','mean', 'std']]"
   ]
  },
  {
   "cell_type": "code",
   "execution_count": null,
   "metadata": {
    "colab": {
     "base_uri": "https://localhost:8080/",
     "height": 1000
    },
    "colab_type": "code",
    "executionInfo": {
     "elapsed": 587447,
     "status": "ok",
     "timestamp": 1564952977707,
     "user": {
      "displayName": "Rafik Matta",
      "photoUrl": "",
      "userId": "06643372443318823080"
     },
     "user_tz": 240
    },
    "id": "XwtHawB_vB2D",
    "outputId": "7f78a60d-3c8f-48f4-a69f-ac59d8429efa"
   },
   "outputs": [],
   "source": [
    "#################################\n",
    "# Long-Short Portfolio Returns  #\n",
    "#################################\n",
    "\n",
    "# Transpose portfolio layout to have columns as portfolio returns\n",
    "ewretdat2 = ewretdat.pivot(index='datadate', columns='momr', values='ewret')\n",
    "\n",
    "# Add prefix port in front of each column\n",
    "ewretdat2 = ewretdat2.add_prefix('port')\n",
    "ewretdat2 = ewretdat2.rename(columns={'port1':'losers', 'port10':'winners'})\n",
    "ewretdat2['long_short'] = ewretdat2['winners'] - ewretdat2['losers']\n",
    "\n",
    "# Compute Long-Short Portfolio Cumulative Returns\n",
    "ewretdat3 = ewretdat2\n",
    "ewretdat3['1+losers']=1+ewretdat3['losers']\n",
    "ewretdat3['1+winners']=1+ewretdat3['winners']\n",
    "ewretdat3['1+ls'] = 1+ewretdat3['long_short']\n",
    "\n",
    "ewretdat3['cumret_winners']=ewretdat3['1+winners'].cumprod()-1\n",
    "ewretdat3['cumret_losers']=ewretdat3['1+losers'].cumprod()-1\n",
    "ewretdat3['cumret_long_short']=ewretdat3['1+ls'].cumprod()-1\n",
    "\n",
    "ewretdat3.head(25)"
   ]
  },
  {
   "cell_type": "code",
   "execution_count": null,
   "metadata": {
    "colab": {
     "base_uri": "https://localhost:8080/",
     "height": 273
    },
    "colab_type": "code",
    "executionInfo": {
     "elapsed": 584878,
     "status": "ok",
     "timestamp": 1564952978105,
     "user": {
      "displayName": "Rafik Matta",
      "photoUrl": "",
      "userId": "06643372443318823080"
     },
     "user_tz": 240
    },
    "id": "i3gUhz_T-mz3",
    "outputId": "69e1da73-7382-4e1b-e888-e10af602eccd"
   },
   "outputs": [],
   "source": [
    "from matplotlib import pyplot\n",
    "series_to_plot = ewretdat3[['cumret_losers','cumret_winners']]\n",
    "series_to_plot.reset_index().plot(x='datadate', y=['cumret_losers','cumret_winners'])\n",
    "pyplot.show()"
   ]
  },
  {
   "cell_type": "code",
   "execution_count": null,
   "metadata": {
    "colab": {
     "base_uri": "https://localhost:8080/",
     "height": 273
    },
    "colab_type": "code",
    "executionInfo": {
     "elapsed": 583051,
     "status": "ok",
     "timestamp": 1564952978358,
     "user": {
      "displayName": "Rafik Matta",
      "photoUrl": "",
      "userId": "06643372443318823080"
     },
     "user_tz": 240
    },
    "id": "3WzynyjY-mz6",
    "outputId": "447ab598-120a-4626-f288-86be7717ce43"
   },
   "outputs": [],
   "source": [
    "from matplotlib import pyplot\n",
    "series_to_plot = ewretdat3[['cumret_long_short']]\n",
    "series_to_plot.reset_index().plot(x='datadate', y=['cumret_long_short'])\n",
    "pyplot.show()"
   ]
  },
  {
   "cell_type": "code",
   "execution_count": null,
   "metadata": {
    "colab": {
     "base_uri": "https://localhost:8080/",
     "height": 142
    },
    "colab_type": "code",
    "executionInfo": {
     "elapsed": 334,
     "status": "ok",
     "timestamp": 1564958484318,
     "user": {
      "displayName": "Rafik Matta",
      "photoUrl": "",
      "userId": "06643372443318823080"
     },
     "user_tz": 240
    },
    "id": "snGhpk1KIv2G",
    "outputId": "5a1ef16b-fffd-4a6d-b0aa-32caccbf13fe"
   },
   "outputs": [],
   "source": [
    "#################################\n",
    "# Portfolio Summary Statistics  #\n",
    "################################# \n",
    "\n",
    "# Mean \n",
    "mom_mean = ewretdat3[['winners', 'losers', 'long_short']].mean().to_frame()\n",
    "mom_std = ewretdat3[['winners', 'losers', 'long_short']].std().to_frame()\n",
    "mom_mean = mom_mean.rename(columns={0:'mean'}).reset_index()\n",
    "mom_std = mom_std.rename(columns={0:'std'}).reset_index()\n",
    "\n",
    "# T-Value and P-Value\n",
    "t_losers = pd.Series(stats.ttest_1samp(ewretdat3['losers'],0.0)).to_frame().T\n",
    "t_winners = pd.Series(stats.ttest_1samp(ewretdat3['winners'],0.0)).to_frame().T\n",
    "t_long_short = pd.Series(stats.ttest_1samp(ewretdat3['long_short'],0.0)).to_frame().T\n",
    "\n",
    "t_losers['momr']='losers'\n",
    "t_winners['momr']='winners'\n",
    "t_long_short['momr']='long_short'\n",
    "\n",
    "t_output =pd.concat([t_winners, t_losers, t_long_short]).rename(columns={0:'t-stat', 1:'p-value'})\n",
    "\n",
    "# Combine mean, t and p\n",
    "mom_output = pd.merge(mom_mean, t_output, on=['momr'], how='inner')\n",
    "mom_output = pd.merge(mom_output,mom_std, on=['momr'], how='inner')\n",
    "sharpe_ratio = ((mom_output['mean'])/mom_output['std'])*np.sqrt(12)\n",
    "mom_output['sharpe_ration'] = sharpe_ratio\n",
    "mom_output.rename(columns={\"momr\": \"portfolio\"})"
   ]
  }
 ],
 "metadata": {
  "colab": {
   "name": "Basic Momentum - Portfolio Formation.ipynb",
   "provenance": [
    {
     "file_id": "1W1qvlFN-0FC12RqZW9ngSKSFm7wmBX-H",
     "timestamp": 1564583231006
    }
   ],
   "toc_visible": true,
   "version": "0.3.2"
  },
  "kernelspec": {
   "display_name": "Python 3",
   "language": "python",
   "name": "python3"
  },
  "language_info": {
   "codemirror_mode": {
    "name": "ipython",
    "version": 3
   },
   "file_extension": ".py",
   "mimetype": "text/x-python",
   "name": "python",
   "nbconvert_exporter": "python",
   "pygments_lexer": "ipython3",
   "version": "3.7.3"
  }
 },
 "nbformat": 4,
 "nbformat_minor": 1
}
