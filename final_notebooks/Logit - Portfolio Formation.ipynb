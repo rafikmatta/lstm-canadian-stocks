{
 "cells": [
  {
   "cell_type": "markdown",
   "metadata": {
    "colab_type": "text",
    "id": "ZUHwwt788gBz"
   },
   "source": [
    "## Initialize and Import Libraries"
   ]
  },
  {
   "cell_type": "code",
   "execution_count": null,
   "metadata": {
    "colab": {
     "base_uri": "https://localhost:8080/",
     "height": 34
    },
    "colab_type": "code",
    "executionInfo": {
     "elapsed": 436,
     "status": "ok",
     "timestamp": 1565834777186,
     "user": {
      "displayName": "Rafik Matta",
      "photoUrl": "",
      "userId": "06643372443318823080"
     },
     "user_tz": 240
    },
    "id": "pZRda9IRIv0u",
    "outputId": "4e67612f-0846-40cf-af0b-ca39522491c0"
   },
   "outputs": [],
   "source": [
    "import time, sys, os, pprint\n",
    "import numpy as np\n",
    "import matplotlib.pyplot as plt\n",
    "import pandas as pd\n",
    "from pandas.tseries.offsets import *\n",
    "from scipy import stats\n",
    "import warnings\n",
    "from google.colab import drive\n",
    "from sklearn import metrics\n",
    "from IPython.display import clear_output\n",
    "\n",
    "warnings.filterwarnings(\"ignore\")\n",
    "drive.mount('/content/gdrive')"
   ]
  },
  {
   "cell_type": "code",
   "execution_count": null,
   "metadata": {
    "colab": {},
    "colab_type": "code",
    "id": "xGhiG9ld9vPC"
   },
   "outputs": [],
   "source": [
    "def update_progress(progress):\n",
    "    bar_length = 20\n",
    "    if isinstance(progress, int):\n",
    "        progress = float(progress)\n",
    "    if not isinstance(progress, float):\n",
    "        progress = 0\n",
    "    if progress < 0:\n",
    "        progress = 0\n",
    "    if progress >= 1:\n",
    "        progress = 1\n",
    "        \n",
    "    block = int(round(bar_length * progress))\n",
    "    clear_output(wait = True)\n",
    "    text = \"Progress: [{0}] {1:.1f}%\".format( \"#\" * block + \"-\" * (bar_length - block), progress * 100)\n",
    "    print(text)"
   ]
  },
  {
   "cell_type": "markdown",
   "metadata": {
    "colab_type": "text",
    "id": "bIc7vDe38-ZU"
   },
   "source": [
    "## Load Data "
   ]
  },
  {
   "cell_type": "code",
   "execution_count": null,
   "metadata": {
    "colab": {},
    "colab_type": "code",
    "id": "Q3qYgNi-Iv02"
   },
   "outputs": [],
   "source": [
    "chass_monthly_file_location = os.path.join(\"/content/gdrive/My Drive/1977monthly.csv\")\n",
    "data_extract_monthly = pd.read_csv(chass_monthly_file_location)\n",
    "data_extract_monthly['datadate'] =  pd.to_datetime(data_extract_monthly['datadate'])"
   ]
  },
  {
   "cell_type": "code",
   "execution_count": null,
   "metadata": {
    "colab": {
     "base_uri": "https://localhost:8080/",
     "height": 85
    },
    "colab_type": "code",
    "executionInfo": {
     "elapsed": 3666,
     "status": "ok",
     "timestamp": 1565833856949,
     "user": {
      "displayName": "Rafik Matta",
      "photoUrl": "",
      "userId": "06643372443318823080"
     },
     "user_tz": 240
    },
    "id": "pOekPP21Iv1A",
    "outputId": "70e4f870-7c84-4edc-e4f1-2871ed47a5dd"
   },
   "outputs": [],
   "source": [
    "print('\\nnumber of different stocks: ', len(list(set(data_extract_monthly.ticker))))\n",
    "print('\\ntotal number of months: ', len(list(set(data_extract_monthly.datadate))))"
   ]
  },
  {
   "cell_type": "markdown",
   "metadata": {
    "colab_type": "text",
    "id": "d_nALoEb9S7H"
   },
   "source": [
    "## Portfolio Creation"
   ]
  },
  {
   "cell_type": "code",
   "execution_count": null,
   "metadata": {
    "colab": {},
    "colab_type": "code",
    "id": "w_vbiDRGIv1G"
   },
   "outputs": [],
   "source": [
    "#######################################################\n",
    "# Create Momentum Portfolio                           #   \n",
    "# Measures Based on Past (J) Month Compounded Returns #\n",
    "#######################################################\n",
    "\n",
    "J = 12 # Formation Period Length: J can be between 3 to 12 months\n",
    "K = 12 # Holding Period Length: K can be between 3 to 12 months"
   ]
  },
  {
   "cell_type": "code",
   "execution_count": null,
   "metadata": {
    "colab": {},
    "colab_type": "code",
    "id": "rexUbYldcG7U"
   },
   "outputs": [],
   "source": [
    "results_extract = pd.DataFrame()"
   ]
  },
  {
   "cell_type": "code",
   "execution_count": null,
   "metadata": {
    "colab": {
     "base_uri": "https://localhost:8080/",
     "height": 34
    },
    "colab_type": "code",
    "executionInfo": {
     "elapsed": 27,
     "status": "ok",
     "timestamp": 1565834837528,
     "user": {
      "displayName": "Rafik Matta",
      "photoUrl": "",
      "userId": "06643372443318823080"
     },
     "user_tz": 240
    },
    "id": "7_2oRFU3mqI1",
    "outputId": "bc1eccd7-8456-41cb-dea4-17058afc1bfc"
   },
   "outputs": [],
   "source": [
    "k = 0\n",
    "i = 0\n",
    "iterations = 18\n",
    "j = 0\n",
    "time_frame = 12\n",
    "offset = 12\n",
    "for i in range(j,iterations):\n",
    "  csv_name = os.path.join(\"/content/gdrive/My Drive/temp_out_logit1/\" + str(i) + \"results.csv\")\n",
    "  df = pd.read_csv(csv_name)\n",
    "  df = df[offset:]\n",
    "  id_vars = [x for x in df.columns if ('_ismember' not in x) \n",
    "             and ('_out' not in x) \n",
    "             and ('_dn' not in x) \n",
    "             and ('_up' not in x) \n",
    "             and ('mean' not in x)\n",
    "             and ('std' not in x)\n",
    "             and ('median' not in x)\n",
    "            ]\n",
    "  value_vars = [x for x in df.columns if ('_dn' in x) or ('_up' in x) ]\n",
    "\n",
    "  result = pd.DataFrame()\n",
    "  for stock in id_vars:\n",
    "    id_varss = ['datadate']\n",
    "    temp = [x for x in value_vars if (stock+'_up') == x or (stock+'_dn'==x)]\n",
    "    if len(temp) >0:\n",
    "      id_varss = id_varss + temp\n",
    "      #print(id_varss)\n",
    "      temp = pd.melt(df, id_vars=id_varss, value_vars=[stock])\n",
    "      temp.rename(columns={stock+'_up':'up', stock+'_dn':'dn'}, inplace=True)\n",
    "      result = pd.concat([result,temp])\n",
    "  k = k+1\n",
    "  update_progress(k/iterations)\n",
    "  results_extract = pd.concat([results_extract,result])"
   ]
  },
  {
   "cell_type": "code",
   "execution_count": null,
   "metadata": {
    "colab": {},
    "colab_type": "code",
    "id": "ohX8myzq-lSN"
   },
   "outputs": [],
   "source": [
    "final_df = results_extract.copy(deep=True)"
   ]
  },
  {
   "cell_type": "code",
   "execution_count": null,
   "metadata": {
    "colab": {},
    "colab_type": "code",
    "id": "yvnXMO_epwgz"
   },
   "outputs": [],
   "source": [
    "final_df['momr']=final_df.groupby('datadate')['dn'].transform(lambda x: pd.qcut(x, 10, labels=False,duplicates='drop'))\n",
    "final_df = final_df.fillna(0)"
   ]
  },
  {
   "cell_type": "code",
   "execution_count": null,
   "metadata": {
    "colab": {},
    "colab_type": "code",
    "id": "8-p_odL8p33N"
   },
   "outputs": [],
   "source": [
    "final_df.momr=final_df.momr.astype(int)\n",
    "final_df['momr'] = final_df['momr']+1"
   ]
  },
  {
   "cell_type": "code",
   "execution_count": null,
   "metadata": {
    "colab": {},
    "colab_type": "code",
    "id": "ZIf3PMNWqA7t"
   },
   "outputs": [],
   "source": [
    "final_df['datadate'] = pd.to_datetime(final_df['datadate'])\n",
    "final_df['form_date']=final_df['datadate']\n",
    "final_df['medate']=final_df['datadate']+MonthEnd(0)\n",
    "final_df['hdate1']=final_df['medate']+MonthBegin(1)\n",
    "final_df['hdate2']=final_df['medate']+MonthEnd(K)\n",
    "final_df = final_df[['variable','form_date','momr','hdate1','hdate2']]\n",
    "final_df = final_df.rename(columns={'variable':'ticker'})"
   ]
  },
  {
   "cell_type": "code",
   "execution_count": null,
   "metadata": {
    "colab": {},
    "colab_type": "code",
    "id": "UE3sJFPWqJOp"
   },
   "outputs": [],
   "source": [
    "# join rank and return data together\n",
    "# note: this step consumes a lot of memory so takes a while\n",
    "_tmp_ret = data_extract_monthly[['ticker','datadate','prc_mret']]\n",
    "#port = pd.merge(_tmp_ret, umd, on=['ticker'], how='inner')\n",
    "port = pd.merge(_tmp_ret, final_df, on=['ticker'], how='inner')\n",
    "port = port[(port['hdate1']<=port['datadate']) & (port['datadate']<=port['hdate2'])]\n",
    "final_df2 = port.sort_values(by=['datadate','momr','form_date','ticker']).drop_duplicates()\n",
    "final_df3 = final_df2.groupby(['datadate','momr','form_date'])['prc_mret'].mean().reset_index()"
   ]
  },
  {
   "cell_type": "code",
   "execution_count": null,
   "metadata": {
    "colab": {
     "base_uri": "https://localhost:8080/",
     "height": 390
    },
    "colab_type": "code",
    "executionInfo": {
     "elapsed": 373,
     "status": "ok",
     "timestamp": 1565834955346,
     "user": {
      "displayName": "Rafik Matta",
      "photoUrl": "",
      "userId": "06643372443318823080"
     },
     "user_tz": 240
    },
    "id": "Fdztjjx3u0pp",
    "outputId": "69edbbab-9b2b-4f88-c9f9-b63318a9c923"
   },
   "outputs": [],
   "source": [
    "# Create one return series per MOM group every month\n",
    "ewret = final_df3.groupby(['datadate','momr'])['prc_mret'].mean().reset_index()\n",
    "ewstd = final_df3.groupby(['datadate','momr'])['prc_mret'].std().reset_index()\n",
    "ewret = ewret.rename(columns={'prc_mret':'ewret'})\n",
    "ewstd = ewstd.rename(columns={'rereturnt':'ewretstd'})\n",
    "ewretdat = pd.merge(ewret, ewstd, on=['datadate','momr'], how='inner')\n",
    "ewretdat = ewretdat.sort_values(by=['momr'])\n",
    "\n",
    "# portfolio summary\n",
    "ewretdat.groupby(['momr'])['ewret'].describe()[['count','mean', 'std']]"
   ]
  },
  {
   "cell_type": "code",
   "execution_count": null,
   "metadata": {
    "colab": {
     "base_uri": "https://localhost:8080/",
     "height": 1000
    },
    "colab_type": "code",
    "executionInfo": {
     "elapsed": 404,
     "status": "ok",
     "timestamp": 1565834974090,
     "user": {
      "displayName": "Rafik Matta",
      "photoUrl": "",
      "userId": "06643372443318823080"
     },
     "user_tz": 240
    },
    "id": "jC4zkon7Iv11",
    "outputId": "640e9cc6-d770-4bc7-c7a7-2245d5f5d30b"
   },
   "outputs": [],
   "source": [
    "#################################\n",
    "# Long-Short Portfolio Returns  #\n",
    "#################################\n",
    "\n",
    "# Transpose portfolio layout to have columns as portfolio returns\n",
    "ewretdat2 = ewretdat.pivot(index='datadate', columns='momr', values='ewret')\n",
    "\n",
    "# Add prefix port in front of each column\n",
    "ewretdat2 = ewretdat2.add_prefix('port')\n",
    "ewretdat2 = ewretdat2.rename(columns={'port1':'losers', 'port10':'winners'})\n",
    "ewretdat2['long_short'] = ewretdat2['winners'] - ewretdat2['losers']\n",
    "\n",
    "# Compute Long-Short Portfolio Cumulative Returns\n",
    "ewretdat3 = ewretdat2\n",
    "ewretdat3['1+losers']=1+ewretdat3['losers']\n",
    "ewretdat3['1+winners']=1+ewretdat3['winners']\n",
    "ewretdat3['1+ls'] = 1+ewretdat3['long_short']\n",
    "\n",
    "ewretdat3['cumret_winners']=ewretdat3['1+winners'].cumprod()-1\n",
    "ewretdat3['cumret_losers']=ewretdat3['1+losers'].cumprod()-1\n",
    "ewretdat3['cumret_long_short']=ewretdat3['1+ls'].cumprod()-1\n",
    "\n",
    "ewretdat3.head(25)"
   ]
  },
  {
   "cell_type": "code",
   "execution_count": null,
   "metadata": {
    "colab": {
     "base_uri": "https://localhost:8080/",
     "height": 273
    },
    "colab_type": "code",
    "executionInfo": {
     "elapsed": 620,
     "status": "ok",
     "timestamp": 1565834976781,
     "user": {
      "displayName": "Rafik Matta",
      "photoUrl": "",
      "userId": "06643372443318823080"
     },
     "user_tz": 240
    },
    "id": "tx3zgMmdIv16",
    "outputId": "84d8cf23-6da5-401d-8be3-ed22cd7c2f44"
   },
   "outputs": [],
   "source": [
    "from matplotlib import pyplot\n",
    "series_to_plot = ewretdat3[['cumret_losers','cumret_winners']]\n",
    "series_to_plot.reset_index().plot(x='datadate', y=['cumret_losers','cumret_winners'])\n",
    "pyplot.show()"
   ]
  },
  {
   "cell_type": "code",
   "execution_count": null,
   "metadata": {
    "colab": {
     "base_uri": "https://localhost:8080/",
     "height": 273
    },
    "colab_type": "code",
    "executionInfo": {
     "elapsed": 645,
     "status": "ok",
     "timestamp": 1565834978822,
     "user": {
      "displayName": "Rafik Matta",
      "photoUrl": "",
      "userId": "06643372443318823080"
     },
     "user_tz": 240
    },
    "id": "x48KKygtIv2C",
    "outputId": "e4739c0e-9dd4-4894-fefd-67f4c49c4bd1"
   },
   "outputs": [],
   "source": [
    "from matplotlib import pyplot\n",
    "series_to_plot = ewretdat3[['cumret_long_short']]\n",
    "series_to_plot.reset_index().plot(x='datadate', y=['cumret_long_short'])\n",
    "pyplot.show()"
   ]
  },
  {
   "cell_type": "code",
   "execution_count": null,
   "metadata": {
    "colab": {
     "base_uri": "https://localhost:8080/",
     "height": 142
    },
    "colab_type": "code",
    "executionInfo": {
     "elapsed": 385,
     "status": "ok",
     "timestamp": 1565834981419,
     "user": {
      "displayName": "Rafik Matta",
      "photoUrl": "",
      "userId": "06643372443318823080"
     },
     "user_tz": 240
    },
    "id": "snGhpk1KIv2G",
    "outputId": "cdafb93d-0f8f-444c-b1c3-63275d015ad6"
   },
   "outputs": [],
   "source": [
    "#################################\n",
    "# Portfolio Summary Statistics  #\n",
    "################################# \n",
    "\n",
    "# Mean \n",
    "mom_mean = ewretdat3[['winners', 'losers', 'long_short']].mean().to_frame()\n",
    "mom_std = ewretdat3[['winners', 'losers', 'long_short']].std().to_frame()\n",
    "mom_mean = mom_mean.rename(columns={0:'mean'}).reset_index()\n",
    "mom_std = mom_std.rename(columns={0:'std'}).reset_index()\n",
    "\n",
    "# T-Value and P-Value\n",
    "t_losers = pd.Series(stats.ttest_1samp(ewretdat3['losers'],0.0)).to_frame().T\n",
    "t_winners = pd.Series(stats.ttest_1samp(ewretdat3['winners'],0.0)).to_frame().T\n",
    "t_long_short = pd.Series(stats.ttest_1samp(ewretdat3['long_short'],0.0)).to_frame().T\n",
    "\n",
    "t_losers['momr']='losers'\n",
    "t_winners['momr']='winners'\n",
    "t_long_short['momr']='long_short'\n",
    "\n",
    "t_output =pd.concat([t_winners, t_losers, t_long_short]).rename(columns={0:'t-stat', 1:'p-value'})\n",
    "\n",
    "# Combine mean, t and p\n",
    "mom_output = pd.merge(mom_mean, t_output, on=['momr'], how='inner')\n",
    "mom_output = pd.merge(mom_output,mom_std, on=['momr'], how='inner')\n",
    "sharpe_ratio = ((mom_output['mean'])/mom_output['std'])*np.sqrt(12)\n",
    "mom_output['sharpe_ratio'] = sharpe_ratio\n",
    "mom_output.rename(columns={\"momr\": \"portfolio\"})"
   ]
  }
 ],
 "metadata": {
  "colab": {
   "name": "Logit- Portfolio Formation2.ipynb",
   "provenance": [
    {
     "file_id": "1W1qvlFN-0FC12RqZW9ngSKSFm7wmBX-H",
     "timestamp": 1564583231006
    }
   ],
   "toc_visible": true,
   "version": "0.3.2"
  },
  "kernelspec": {
   "display_name": "Python 3",
   "language": "python",
   "name": "python3"
  },
  "language_info": {
   "codemirror_mode": {
    "name": "ipython",
    "version": 3
   },
   "file_extension": ".py",
   "mimetype": "text/x-python",
   "name": "python",
   "nbconvert_exporter": "python",
   "pygments_lexer": "ipython3",
   "version": "3.7.3"
  }
 },
 "nbformat": 4,
 "nbformat_minor": 1
}
