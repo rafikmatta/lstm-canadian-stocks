{
 "cells": [
  {
   "cell_type": "markdown",
   "metadata": {
    "_cell_guid": "179c2ccd-823a-9576-f8d4-552dbbde3483"
   },
   "source": [
    "# 25/04/2019 Update\n",
    "Please check out my  [new embedding model](https://www.kaggle.com/benjibb/entity-embedding-neural-network), which I think is more promising than the existing method.\n",
    "\n",
    "# 07/05/2017 Update\n",
    "\n",
    "This project is based on my [GitHub link][1] and my research is based on  [this paper][2]. \n",
    "\n",
    "Instead of using Echo state network which was used in the Stanford research paper, we are going to use LSTM which is more advanced in training the neural network.\n",
    "\n",
    "More updates will be provided to accommodate the dataset in this Kaggle challenge.  You can simply adjust it to choose your features and window for data.\n",
    "\n",
    "Thank you all!\n",
    "\n",
    "# Import module first\n",
    "\n",
    "\n",
    "  [1]: https://github.com/BenjiKCF/Neural-Network-with-Financial-Time-Series-Data\n",
    "  [2]: http://cs229.stanford.edu/proj2012/BernalFokPidaparthi-FinancialMarketTimeSeriesPredictionwithRecurrentNeural.pdf"
   ]
  },
  {
   "cell_type": "code",
   "execution_count": 1,
   "metadata": {
    "_cell_guid": "78d1f84f-aed9-747b-154a-f7fe6c7bb8c9"
   },
   "outputs": [
    {
     "name": "stderr",
     "output_type": "stream",
     "text": [
      "Using TensorFlow backend.\n"
     ]
    }
   ],
   "source": [
    "import numpy as np\n",
    "import matplotlib.pyplot as plt\n",
    "import pandas as pd\n",
    "from pandas import datetime\n",
    "import math, time\n",
    "import itertools\n",
    "from sklearn import preprocessing\n",
    "import datetime\n",
    "from operator import itemgetter\n",
    "from sklearn.metrics import mean_squared_error\n",
    "from math import sqrt\n",
    "from keras.models import Sequential\n",
    "from keras.layers.core import Dense, Dropout, Activation\n",
    "from keras.layers.recurrent import LSTM\n",
    "from keras.models import load_model\n",
    "import keras\n",
    "import h5py\n",
    "import requests\n",
    "import os"
   ]
  },
  {
   "cell_type": "markdown",
   "metadata": {
    "_cell_guid": "02cc6c64-3161-cf2d-4298-c700c2eee594"
   },
   "source": [
    "# Read data and transform them to pandas dataframe"
   ]
  },
  {
   "cell_type": "code",
   "execution_count": 2,
   "metadata": {
    "_cell_guid": "e10138dc-b1a1-fd9e-64c8-3bbf3b1844a6"
   },
   "outputs": [
    {
     "data": {
      "text/html": [
       "<div>\n",
       "<style scoped>\n",
       "    .dataframe tbody tr th:only-of-type {\n",
       "        vertical-align: middle;\n",
       "    }\n",
       "\n",
       "    .dataframe tbody tr th {\n",
       "        vertical-align: top;\n",
       "    }\n",
       "\n",
       "    .dataframe thead th {\n",
       "        text-align: right;\n",
       "    }\n",
       "</style>\n",
       "<table border=\"1\" class=\"dataframe\">\n",
       "  <thead>\n",
       "    <tr style=\"text-align: right;\">\n",
       "      <th></th>\n",
       "      <th>symbol</th>\n",
       "      <th>open</th>\n",
       "      <th>low</th>\n",
       "      <th>high</th>\n",
       "      <th>volume</th>\n",
       "      <th>adj close</th>\n",
       "    </tr>\n",
       "    <tr>\n",
       "      <th>date</th>\n",
       "      <th></th>\n",
       "      <th></th>\n",
       "      <th></th>\n",
       "      <th></th>\n",
       "      <th></th>\n",
       "      <th></th>\n",
       "    </tr>\n",
       "  </thead>\n",
       "  <tbody>\n",
       "    <tr>\n",
       "      <th>2016-01-05</th>\n",
       "      <td>WLTW</td>\n",
       "      <td>123.430000</td>\n",
       "      <td>122.309998</td>\n",
       "      <td>126.250000</td>\n",
       "      <td>2163600.0</td>\n",
       "      <td>125.839996</td>\n",
       "    </tr>\n",
       "    <tr>\n",
       "      <th>2016-01-06</th>\n",
       "      <td>WLTW</td>\n",
       "      <td>125.239998</td>\n",
       "      <td>119.940002</td>\n",
       "      <td>125.540001</td>\n",
       "      <td>2386400.0</td>\n",
       "      <td>119.980003</td>\n",
       "    </tr>\n",
       "    <tr>\n",
       "      <th>2016-01-07</th>\n",
       "      <td>WLTW</td>\n",
       "      <td>116.379997</td>\n",
       "      <td>114.930000</td>\n",
       "      <td>119.739998</td>\n",
       "      <td>2489500.0</td>\n",
       "      <td>114.949997</td>\n",
       "    </tr>\n",
       "    <tr>\n",
       "      <th>2016-01-08</th>\n",
       "      <td>WLTW</td>\n",
       "      <td>115.480003</td>\n",
       "      <td>113.500000</td>\n",
       "      <td>117.440002</td>\n",
       "      <td>2006300.0</td>\n",
       "      <td>116.620003</td>\n",
       "    </tr>\n",
       "    <tr>\n",
       "      <th>2016-01-11</th>\n",
       "      <td>WLTW</td>\n",
       "      <td>117.010002</td>\n",
       "      <td>114.089996</td>\n",
       "      <td>117.330002</td>\n",
       "      <td>1408600.0</td>\n",
       "      <td>114.970001</td>\n",
       "    </tr>\n",
       "  </tbody>\n",
       "</table>\n",
       "</div>"
      ],
      "text/plain": [
       "           symbol        open     ...         volume   adj close\n",
       "date                              ...                           \n",
       "2016-01-05   WLTW  123.430000     ...      2163600.0  125.839996\n",
       "2016-01-06   WLTW  125.239998     ...      2386400.0  119.980003\n",
       "2016-01-07   WLTW  116.379997     ...      2489500.0  114.949997\n",
       "2016-01-08   WLTW  115.480003     ...      2006300.0  116.620003\n",
       "2016-01-11   WLTW  117.010002     ...      1408600.0  114.970001\n",
       "\n",
       "[5 rows x 6 columns]"
      ]
     },
     "execution_count": 2,
     "metadata": {},
     "output_type": "execute_result"
    }
   ],
   "source": [
    "df = pd.read_csv(\"../input/prices-split-adjusted.csv\", index_col = 0)\n",
    "df[\"adj close\"] = df.close # Moving close to the last column\n",
    "df.drop(['close'], 1, inplace=True) # Moving close to the last column\n",
    "df.head()"
   ]
  },
  {
   "cell_type": "code",
   "execution_count": 3,
   "metadata": {
    "_cell_guid": "83a2dfa1-a5e0-580f-1617-faa4b8e25ed3"
   },
   "outputs": [
    {
     "data": {
      "text/html": [
       "<div>\n",
       "<style scoped>\n",
       "    .dataframe tbody tr th:only-of-type {\n",
       "        vertical-align: middle;\n",
       "    }\n",
       "\n",
       "    .dataframe tbody tr th {\n",
       "        vertical-align: top;\n",
       "    }\n",
       "\n",
       "    .dataframe thead th {\n",
       "        text-align: right;\n",
       "    }\n",
       "</style>\n",
       "<table border=\"1\" class=\"dataframe\">\n",
       "  <thead>\n",
       "    <tr style=\"text-align: right;\">\n",
       "      <th></th>\n",
       "      <th>Unnamed: 0</th>\n",
       "      <th>Ticker Symbol</th>\n",
       "      <th>Period Ending</th>\n",
       "      <th>Accounts Payable</th>\n",
       "      <th>Accounts Receivable</th>\n",
       "      <th>Add'l income/expense items</th>\n",
       "      <th>After Tax ROE</th>\n",
       "      <th>Capital Expenditures</th>\n",
       "      <th>Capital Surplus</th>\n",
       "      <th>Cash Ratio</th>\n",
       "      <th>Cash and Cash Equivalents</th>\n",
       "      <th>Changes in Inventories</th>\n",
       "      <th>Common Stocks</th>\n",
       "      <th>Cost of Revenue</th>\n",
       "      <th>Current Ratio</th>\n",
       "      <th>Deferred Asset Charges</th>\n",
       "      <th>Deferred Liability Charges</th>\n",
       "      <th>Depreciation</th>\n",
       "      <th>Earnings Before Interest and Tax</th>\n",
       "      <th>Earnings Before Tax</th>\n",
       "      <th>Effect of Exchange Rate</th>\n",
       "      <th>Equity Earnings/Loss Unconsolidated Subsidiary</th>\n",
       "      <th>Fixed Assets</th>\n",
       "      <th>Goodwill</th>\n",
       "      <th>Gross Margin</th>\n",
       "      <th>Gross Profit</th>\n",
       "      <th>Income Tax</th>\n",
       "      <th>Intangible Assets</th>\n",
       "      <th>Interest Expense</th>\n",
       "      <th>Inventory</th>\n",
       "      <th>Investments</th>\n",
       "      <th>Liabilities</th>\n",
       "      <th>Long-Term Debt</th>\n",
       "      <th>Long-Term Investments</th>\n",
       "      <th>Minority Interest</th>\n",
       "      <th>Misc. Stocks</th>\n",
       "      <th>Net Borrowings</th>\n",
       "      <th>Net Cash Flow</th>\n",
       "      <th>Net Cash Flow-Operating</th>\n",
       "      <th>Net Cash Flows-Financing</th>\n",
       "      <th>Net Cash Flows-Investing</th>\n",
       "      <th>Net Income</th>\n",
       "      <th>Net Income Adjustments</th>\n",
       "      <th>Net Income Applicable to Common Shareholders</th>\n",
       "      <th>Net Income-Cont. Operations</th>\n",
       "      <th>Net Receivables</th>\n",
       "      <th>Non-Recurring Items</th>\n",
       "      <th>Operating Income</th>\n",
       "      <th>Operating Margin</th>\n",
       "      <th>Other Assets</th>\n",
       "      <th>Other Current Assets</th>\n",
       "      <th>Other Current Liabilities</th>\n",
       "      <th>Other Equity</th>\n",
       "      <th>Other Financing Activities</th>\n",
       "      <th>Other Investing Activities</th>\n",
       "      <th>Other Liabilities</th>\n",
       "      <th>Other Operating Activities</th>\n",
       "      <th>Other Operating Items</th>\n",
       "      <th>Pre-Tax Margin</th>\n",
       "      <th>Pre-Tax ROE</th>\n",
       "      <th>Profit Margin</th>\n",
       "      <th>Quick Ratio</th>\n",
       "      <th>Research and Development</th>\n",
       "      <th>Retained Earnings</th>\n",
       "      <th>Sale and Purchase of Stock</th>\n",
       "      <th>Sales, General and Admin.</th>\n",
       "      <th>Short-Term Debt / Current Portion of Long-Term Debt</th>\n",
       "      <th>Short-Term Investments</th>\n",
       "      <th>Total Assets</th>\n",
       "      <th>Total Current Assets</th>\n",
       "      <th>Total Current Liabilities</th>\n",
       "      <th>Total Equity</th>\n",
       "      <th>Total Liabilities</th>\n",
       "      <th>Total Liabilities &amp; Equity</th>\n",
       "      <th>Total Revenue</th>\n",
       "      <th>Treasury Stock</th>\n",
       "      <th>For Year</th>\n",
       "      <th>Earnings Per Share</th>\n",
       "      <th>Estimated Shares Outstanding</th>\n",
       "    </tr>\n",
       "  </thead>\n",
       "  <tbody>\n",
       "    <tr>\n",
       "      <th>0</th>\n",
       "      <td>0</td>\n",
       "      <td>AAL</td>\n",
       "      <td>2012-12-31</td>\n",
       "      <td>3.068000e+09</td>\n",
       "      <td>-222000000.0</td>\n",
       "      <td>-1.961000e+09</td>\n",
       "      <td>23.0</td>\n",
       "      <td>-1.888000e+09</td>\n",
       "      <td>4.695000e+09</td>\n",
       "      <td>53.0</td>\n",
       "      <td>1.330000e+09</td>\n",
       "      <td>0.0</td>\n",
       "      <td>127000000.0</td>\n",
       "      <td>1.049900e+10</td>\n",
       "      <td>78.0</td>\n",
       "      <td>0.000000e+00</td>\n",
       "      <td>223000000.0</td>\n",
       "      <td>1.001000e+09</td>\n",
       "      <td>-1.813000e+09</td>\n",
       "      <td>-2.445000e+09</td>\n",
       "      <td>0.0</td>\n",
       "      <td>0.0</td>\n",
       "      <td>1.340200e+10</td>\n",
       "      <td>0.000000e+00</td>\n",
       "      <td>58.0</td>\n",
       "      <td>1.435600e+10</td>\n",
       "      <td>-5.690000e+08</td>\n",
       "      <td>8.690000e+08</td>\n",
       "      <td>632000000.0</td>\n",
       "      <td>5.800000e+08</td>\n",
       "      <td>3.060000e+08</td>\n",
       "      <td>4.730000e+08</td>\n",
       "      <td>7.116000e+09</td>\n",
       "      <td>0.0</td>\n",
       "      <td>0.0</td>\n",
       "      <td>0.0</td>\n",
       "      <td>-1.020000e+09</td>\n",
       "      <td>197000000.0</td>\n",
       "      <td>1.285000e+09</td>\n",
       "      <td>4.830000e+08</td>\n",
       "      <td>-1.571000e+09</td>\n",
       "      <td>-1.876000e+09</td>\n",
       "      <td>2.050000e+09</td>\n",
       "      <td>-1.876000e+09</td>\n",
       "      <td>-4.084000e+09</td>\n",
       "      <td>1.124000e+09</td>\n",
       "      <td>3.860000e+08</td>\n",
       "      <td>1.480000e+08</td>\n",
       "      <td>1.0</td>\n",
       "      <td>2.167000e+09</td>\n",
       "      <td>6.260000e+08</td>\n",
       "      <td>4.524000e+09</td>\n",
       "      <td>-2.980000e+09</td>\n",
       "      <td>1.509000e+09</td>\n",
       "      <td>11000000.0</td>\n",
       "      <td>1.514700e+10</td>\n",
       "      <td>-141000000.0</td>\n",
       "      <td>8.450000e+08</td>\n",
       "      <td>10.0</td>\n",
       "      <td>31.0</td>\n",
       "      <td>8.0</td>\n",
       "      <td>72.0</td>\n",
       "      <td>0.0</td>\n",
       "      <td>-9.462000e+09</td>\n",
       "      <td>0.000000e+00</td>\n",
       "      <td>1.297700e+10</td>\n",
       "      <td>1.419000e+09</td>\n",
       "      <td>3.412000e+09</td>\n",
       "      <td>2.351000e+10</td>\n",
       "      <td>7.072000e+09</td>\n",
       "      <td>9.011000e+09</td>\n",
       "      <td>-7.987000e+09</td>\n",
       "      <td>2.489100e+10</td>\n",
       "      <td>1.690400e+10</td>\n",
       "      <td>2.485500e+10</td>\n",
       "      <td>-367000000.0</td>\n",
       "      <td>2012.0</td>\n",
       "      <td>-5.60</td>\n",
       "      <td>3.350000e+08</td>\n",
       "    </tr>\n",
       "    <tr>\n",
       "      <th>1</th>\n",
       "      <td>1</td>\n",
       "      <td>AAL</td>\n",
       "      <td>2013-12-31</td>\n",
       "      <td>4.975000e+09</td>\n",
       "      <td>-93000000.0</td>\n",
       "      <td>-2.723000e+09</td>\n",
       "      <td>67.0</td>\n",
       "      <td>-3.114000e+09</td>\n",
       "      <td>1.059200e+10</td>\n",
       "      <td>75.0</td>\n",
       "      <td>2.175000e+09</td>\n",
       "      <td>0.0</td>\n",
       "      <td>5000000.0</td>\n",
       "      <td>1.101900e+10</td>\n",
       "      <td>104.0</td>\n",
       "      <td>0.000000e+00</td>\n",
       "      <td>935000000.0</td>\n",
       "      <td>1.020000e+09</td>\n",
       "      <td>-1.324000e+09</td>\n",
       "      <td>-2.180000e+09</td>\n",
       "      <td>0.0</td>\n",
       "      <td>0.0</td>\n",
       "      <td>1.925900e+10</td>\n",
       "      <td>4.086000e+09</td>\n",
       "      <td>59.0</td>\n",
       "      <td>1.572400e+10</td>\n",
       "      <td>-3.460000e+08</td>\n",
       "      <td>2.311000e+09</td>\n",
       "      <td>856000000.0</td>\n",
       "      <td>1.012000e+09</td>\n",
       "      <td>-1.181000e+09</td>\n",
       "      <td>-2.350000e+08</td>\n",
       "      <td>1.535300e+10</td>\n",
       "      <td>0.0</td>\n",
       "      <td>0.0</td>\n",
       "      <td>0.0</td>\n",
       "      <td>2.208000e+09</td>\n",
       "      <td>660000000.0</td>\n",
       "      <td>6.750000e+08</td>\n",
       "      <td>3.799000e+09</td>\n",
       "      <td>-3.814000e+09</td>\n",
       "      <td>-1.834000e+09</td>\n",
       "      <td>1.873000e+09</td>\n",
       "      <td>-1.834000e+09</td>\n",
       "      <td>-4.489000e+09</td>\n",
       "      <td>1.560000e+09</td>\n",
       "      <td>5.590000e+08</td>\n",
       "      <td>1.399000e+09</td>\n",
       "      <td>5.0</td>\n",
       "      <td>2.299000e+09</td>\n",
       "      <td>1.465000e+09</td>\n",
       "      <td>7.385000e+09</td>\n",
       "      <td>-2.032000e+09</td>\n",
       "      <td>1.711000e+09</td>\n",
       "      <td>481000000.0</td>\n",
       "      <td>1.491500e+10</td>\n",
       "      <td>-56000000.0</td>\n",
       "      <td>8.530000e+08</td>\n",
       "      <td>8.0</td>\n",
       "      <td>80.0</td>\n",
       "      <td>7.0</td>\n",
       "      <td>96.0</td>\n",
       "      <td>0.0</td>\n",
       "      <td>-1.129600e+10</td>\n",
       "      <td>0.000000e+00</td>\n",
       "      <td>1.291300e+10</td>\n",
       "      <td>1.446000e+09</td>\n",
       "      <td>8.111000e+09</td>\n",
       "      <td>4.227800e+10</td>\n",
       "      <td>1.432300e+10</td>\n",
       "      <td>1.380600e+10</td>\n",
       "      <td>-2.731000e+09</td>\n",
       "      <td>4.500900e+10</td>\n",
       "      <td>4.227800e+10</td>\n",
       "      <td>2.674300e+10</td>\n",
       "      <td>0.0</td>\n",
       "      <td>2013.0</td>\n",
       "      <td>-11.25</td>\n",
       "      <td>1.630222e+08</td>\n",
       "    </tr>\n",
       "    <tr>\n",
       "      <th>2</th>\n",
       "      <td>2</td>\n",
       "      <td>AAL</td>\n",
       "      <td>2014-12-31</td>\n",
       "      <td>4.668000e+09</td>\n",
       "      <td>-160000000.0</td>\n",
       "      <td>-1.500000e+08</td>\n",
       "      <td>143.0</td>\n",
       "      <td>-5.311000e+09</td>\n",
       "      <td>1.513500e+10</td>\n",
       "      <td>60.0</td>\n",
       "      <td>1.768000e+09</td>\n",
       "      <td>0.0</td>\n",
       "      <td>7000000.0</td>\n",
       "      <td>1.562000e+10</td>\n",
       "      <td>88.0</td>\n",
       "      <td>0.000000e+00</td>\n",
       "      <td>829000000.0</td>\n",
       "      <td>1.342000e+09</td>\n",
       "      <td>4.099000e+09</td>\n",
       "      <td>3.212000e+09</td>\n",
       "      <td>0.0</td>\n",
       "      <td>0.0</td>\n",
       "      <td>2.308400e+10</td>\n",
       "      <td>4.091000e+09</td>\n",
       "      <td>63.0</td>\n",
       "      <td>2.703000e+10</td>\n",
       "      <td>3.300000e+08</td>\n",
       "      <td>2.240000e+09</td>\n",
       "      <td>887000000.0</td>\n",
       "      <td>1.004000e+09</td>\n",
       "      <td>1.799000e+09</td>\n",
       "      <td>-1.026000e+09</td>\n",
       "      <td>1.604300e+10</td>\n",
       "      <td>0.0</td>\n",
       "      <td>0.0</td>\n",
       "      <td>0.0</td>\n",
       "      <td>1.700000e+08</td>\n",
       "      <td>-146000000.0</td>\n",
       "      <td>3.080000e+09</td>\n",
       "      <td>-3.150000e+08</td>\n",
       "      <td>-2.911000e+09</td>\n",
       "      <td>2.882000e+09</td>\n",
       "      <td>5.420000e+08</td>\n",
       "      <td>2.882000e+09</td>\n",
       "      <td>2.882000e+09</td>\n",
       "      <td>1.771000e+09</td>\n",
       "      <td>8.000000e+08</td>\n",
       "      <td>4.249000e+09</td>\n",
       "      <td>10.0</td>\n",
       "      <td>2.060000e+09</td>\n",
       "      <td>8.980000e+08</td>\n",
       "      <td>7.059000e+09</td>\n",
       "      <td>-4.559000e+09</td>\n",
       "      <td>8.170000e+08</td>\n",
       "      <td>601000000.0</td>\n",
       "      <td>1.092800e+10</td>\n",
       "      <td>-500000000.0</td>\n",
       "      <td>1.295000e+09</td>\n",
       "      <td>8.0</td>\n",
       "      <td>159.0</td>\n",
       "      <td>7.0</td>\n",
       "      <td>80.0</td>\n",
       "      <td>0.0</td>\n",
       "      <td>-8.562000e+09</td>\n",
       "      <td>-1.052000e+09</td>\n",
       "      <td>2.068600e+10</td>\n",
       "      <td>1.677000e+09</td>\n",
       "      <td>6.309000e+09</td>\n",
       "      <td>4.322500e+10</td>\n",
       "      <td>1.175000e+10</td>\n",
       "      <td>1.340400e+10</td>\n",
       "      <td>2.021000e+09</td>\n",
       "      <td>4.120400e+10</td>\n",
       "      <td>4.322500e+10</td>\n",
       "      <td>4.265000e+10</td>\n",
       "      <td>0.0</td>\n",
       "      <td>2014.0</td>\n",
       "      <td>4.02</td>\n",
       "      <td>7.169154e+08</td>\n",
       "    </tr>\n",
       "    <tr>\n",
       "      <th>3</th>\n",
       "      <td>3</td>\n",
       "      <td>AAL</td>\n",
       "      <td>2015-12-31</td>\n",
       "      <td>5.102000e+09</td>\n",
       "      <td>352000000.0</td>\n",
       "      <td>-7.080000e+08</td>\n",
       "      <td>135.0</td>\n",
       "      <td>-6.151000e+09</td>\n",
       "      <td>1.159100e+10</td>\n",
       "      <td>51.0</td>\n",
       "      <td>1.085000e+09</td>\n",
       "      <td>0.0</td>\n",
       "      <td>6000000.0</td>\n",
       "      <td>1.109600e+10</td>\n",
       "      <td>73.0</td>\n",
       "      <td>2.477000e+09</td>\n",
       "      <td>667000000.0</td>\n",
       "      <td>1.487000e+09</td>\n",
       "      <td>5.496000e+09</td>\n",
       "      <td>4.616000e+09</td>\n",
       "      <td>0.0</td>\n",
       "      <td>0.0</td>\n",
       "      <td>2.751000e+10</td>\n",
       "      <td>4.091000e+09</td>\n",
       "      <td>73.0</td>\n",
       "      <td>2.989400e+10</td>\n",
       "      <td>-2.994000e+09</td>\n",
       "      <td>2.249000e+09</td>\n",
       "      <td>880000000.0</td>\n",
       "      <td>8.630000e+08</td>\n",
       "      <td>4.430000e+08</td>\n",
       "      <td>-6.330000e+08</td>\n",
       "      <td>1.833000e+10</td>\n",
       "      <td>0.0</td>\n",
       "      <td>0.0</td>\n",
       "      <td>0.0</td>\n",
       "      <td>2.856000e+09</td>\n",
       "      <td>-604000000.0</td>\n",
       "      <td>6.249000e+09</td>\n",
       "      <td>-1.259000e+09</td>\n",
       "      <td>-5.594000e+09</td>\n",
       "      <td>7.610000e+09</td>\n",
       "      <td>-2.662000e+09</td>\n",
       "      <td>7.610000e+09</td>\n",
       "      <td>7.610000e+09</td>\n",
       "      <td>1.425000e+09</td>\n",
       "      <td>1.051000e+09</td>\n",
       "      <td>6.204000e+09</td>\n",
       "      <td>15.0</td>\n",
       "      <td>2.103000e+09</td>\n",
       "      <td>7.480000e+08</td>\n",
       "      <td>6.272000e+09</td>\n",
       "      <td>-4.732000e+09</td>\n",
       "      <td>9.600000e+07</td>\n",
       "      <td>114000000.0</td>\n",
       "      <td>1.017800e+10</td>\n",
       "      <td>95000000.0</td>\n",
       "      <td>1.364000e+09</td>\n",
       "      <td>11.0</td>\n",
       "      <td>82.0</td>\n",
       "      <td>19.0</td>\n",
       "      <td>67.0</td>\n",
       "      <td>0.0</td>\n",
       "      <td>-1.230000e+09</td>\n",
       "      <td>-3.846000e+09</td>\n",
       "      <td>2.127500e+10</td>\n",
       "      <td>2.231000e+09</td>\n",
       "      <td>5.864000e+09</td>\n",
       "      <td>4.841500e+10</td>\n",
       "      <td>9.985000e+09</td>\n",
       "      <td>1.360500e+10</td>\n",
       "      <td>5.635000e+09</td>\n",
       "      <td>4.278000e+10</td>\n",
       "      <td>4.841500e+10</td>\n",
       "      <td>4.099000e+10</td>\n",
       "      <td>0.0</td>\n",
       "      <td>2015.0</td>\n",
       "      <td>11.39</td>\n",
       "      <td>6.681299e+08</td>\n",
       "    </tr>\n",
       "    <tr>\n",
       "      <th>4</th>\n",
       "      <td>4</td>\n",
       "      <td>AAP</td>\n",
       "      <td>2012-12-29</td>\n",
       "      <td>2.409453e+09</td>\n",
       "      <td>-89482000.0</td>\n",
       "      <td>6.000000e+05</td>\n",
       "      <td>32.0</td>\n",
       "      <td>-2.711820e+08</td>\n",
       "      <td>5.202150e+08</td>\n",
       "      <td>23.0</td>\n",
       "      <td>5.981110e+08</td>\n",
       "      <td>-260298000.0</td>\n",
       "      <td>7000.0</td>\n",
       "      <td>3.106967e+09</td>\n",
       "      <td>124.0</td>\n",
       "      <td>0.000000e+00</td>\n",
       "      <td>0.0</td>\n",
       "      <td>1.895440e+08</td>\n",
       "      <td>6.579150e+08</td>\n",
       "      <td>6.240740e+08</td>\n",
       "      <td>0.0</td>\n",
       "      <td>0.0</td>\n",
       "      <td>1.292547e+09</td>\n",
       "      <td>7.638900e+07</td>\n",
       "      <td>50.0</td>\n",
       "      <td>3.098036e+09</td>\n",
       "      <td>2.364040e+08</td>\n",
       "      <td>2.884500e+07</td>\n",
       "      <td>33841000.0</td>\n",
       "      <td>2.308609e+09</td>\n",
       "      <td>0.000000e+00</td>\n",
       "      <td>4.263230e+08</td>\n",
       "      <td>6.044610e+08</td>\n",
       "      <td>0.0</td>\n",
       "      <td>0.0</td>\n",
       "      <td>0.0</td>\n",
       "      <td>1.774450e+08</td>\n",
       "      <td>540210000.0</td>\n",
       "      <td>6.852810e+08</td>\n",
       "      <td>1.279070e+08</td>\n",
       "      <td>-2.729780e+08</td>\n",
       "      <td>3.876700e+08</td>\n",
       "      <td>2.331100e+07</td>\n",
       "      <td>3.876700e+08</td>\n",
       "      <td>3.876700e+08</td>\n",
       "      <td>2.298660e+08</td>\n",
       "      <td>0.000000e+00</td>\n",
       "      <td>6.573150e+08</td>\n",
       "      <td>11.0</td>\n",
       "      <td>3.183300e+07</td>\n",
       "      <td>4.761400e+07</td>\n",
       "      <td>1.495580e+08</td>\n",
       "      <td>2.667000e+06</td>\n",
       "      <td>-3.349900e+07</td>\n",
       "      <td>-1796000.0</td>\n",
       "      <td>2.390210e+08</td>\n",
       "      <td>8213000.0</td>\n",
       "      <td>0.000000e+00</td>\n",
       "      <td>10.0</td>\n",
       "      <td>52.0</td>\n",
       "      <td>6.0</td>\n",
       "      <td>34.0</td>\n",
       "      <td>0.0</td>\n",
       "      <td>7.149000e+08</td>\n",
       "      <td>-1.860000e+07</td>\n",
       "      <td>2.440721e+09</td>\n",
       "      <td>6.270000e+05</td>\n",
       "      <td>0.000000e+00</td>\n",
       "      <td>4.613814e+09</td>\n",
       "      <td>3.184200e+09</td>\n",
       "      <td>2.559638e+09</td>\n",
       "      <td>1.210694e+09</td>\n",
       "      <td>3.403120e+09</td>\n",
       "      <td>4.613814e+09</td>\n",
       "      <td>6.205003e+09</td>\n",
       "      <td>-27095000.0</td>\n",
       "      <td>2012.0</td>\n",
       "      <td>5.29</td>\n",
       "      <td>7.328355e+07</td>\n",
       "    </tr>\n",
       "  </tbody>\n",
       "</table>\n",
       "</div>"
      ],
      "text/plain": [
       "   Unnamed: 0             ...              Estimated Shares Outstanding\n",
       "0           0             ...                              3.350000e+08\n",
       "1           1             ...                              1.630222e+08\n",
       "2           2             ...                              7.169154e+08\n",
       "3           3             ...                              6.681299e+08\n",
       "4           4             ...                              7.328355e+07\n",
       "\n",
       "[5 rows x 79 columns]"
      ]
     },
     "execution_count": 3,
     "metadata": {},
     "output_type": "execute_result"
    }
   ],
   "source": [
    "df2 = pd.read_csv(\"../input/fundamentals.csv\")\n",
    "df2.head()"
   ]
  },
  {
   "cell_type": "markdown",
   "metadata": {
    "_cell_guid": "5a80f7c5-3ab2-5ac2-1b1e-26f9ecc53c34"
   },
   "source": [
    "# Extract all symbols from the list"
   ]
  },
  {
   "cell_type": "code",
   "execution_count": 4,
   "metadata": {
    "_cell_guid": "8eab994d-dd03-6a73-0bbe-28c68ba58a1c"
   },
   "outputs": [
    {
     "data": {
      "text/plain": [
       "501"
      ]
     },
     "execution_count": 4,
     "metadata": {},
     "output_type": "execute_result"
    }
   ],
   "source": [
    "symbols = list(set(df.symbol))\n",
    "len(symbols)"
   ]
  },
  {
   "cell_type": "code",
   "execution_count": 5,
   "metadata": {
    "_cell_guid": "ca231b38-093b-2d84-d190-587f737c23d8"
   },
   "outputs": [
    {
     "data": {
      "text/plain": [
       "['AMZN',\n",
       " 'DFS',\n",
       " 'WFM',\n",
       " 'DLR',\n",
       " 'KHC',\n",
       " 'AMT',\n",
       " 'NDAQ',\n",
       " 'BSX',\n",
       " 'GOOGL',\n",
       " 'FITB',\n",
       " 'AEP']"
      ]
     },
     "execution_count": 5,
     "metadata": {},
     "output_type": "execute_result"
    }
   ],
   "source": [
    "symbols[:11] # Example of what is in symbols"
   ]
  },
  {
   "cell_type": "markdown",
   "metadata": {
    "_cell_guid": "83aeaa46-584e-beef-e8e6-a121a51c43d8"
   },
   "source": [
    "# Extract a particular price for stock in symbols\n",
    "Use GOOG as an example"
   ]
  },
  {
   "cell_type": "code",
   "execution_count": 6,
   "metadata": {
    "_cell_guid": "ca7ef19e-e4ce-c4b9-24ab-fd62a279f599"
   },
   "outputs": [
    {
     "data": {
      "text/html": [
       "<div>\n",
       "<style scoped>\n",
       "    .dataframe tbody tr th:only-of-type {\n",
       "        vertical-align: middle;\n",
       "    }\n",
       "\n",
       "    .dataframe tbody tr th {\n",
       "        vertical-align: top;\n",
       "    }\n",
       "\n",
       "    .dataframe thead th {\n",
       "        text-align: right;\n",
       "    }\n",
       "</style>\n",
       "<table border=\"1\" class=\"dataframe\">\n",
       "  <thead>\n",
       "    <tr style=\"text-align: right;\">\n",
       "      <th></th>\n",
       "      <th>open</th>\n",
       "      <th>low</th>\n",
       "      <th>high</th>\n",
       "      <th>volume</th>\n",
       "      <th>adj close</th>\n",
       "    </tr>\n",
       "    <tr>\n",
       "      <th>date</th>\n",
       "      <th></th>\n",
       "      <th></th>\n",
       "      <th></th>\n",
       "      <th></th>\n",
       "      <th></th>\n",
       "    </tr>\n",
       "  </thead>\n",
       "  <tbody>\n",
       "    <tr>\n",
       "      <th>2010-01-04</th>\n",
       "      <td>312.304948</td>\n",
       "      <td>310.955001</td>\n",
       "      <td>313.580158</td>\n",
       "      <td>3927000.0</td>\n",
       "      <td>312.205308</td>\n",
       "    </tr>\n",
       "    <tr>\n",
       "      <th>2010-01-05</th>\n",
       "      <td>312.419511</td>\n",
       "      <td>309.610028</td>\n",
       "      <td>312.748278</td>\n",
       "      <td>6031900.0</td>\n",
       "      <td>310.830459</td>\n",
       "    </tr>\n",
       "    <tr>\n",
       "      <th>2010-01-06</th>\n",
       "      <td>311.761979</td>\n",
       "      <td>302.048370</td>\n",
       "      <td>311.761979</td>\n",
       "      <td>7987100.0</td>\n",
       "      <td>302.994813</td>\n",
       "    </tr>\n",
       "    <tr>\n",
       "      <th>2010-01-07</th>\n",
       "      <td>303.562685</td>\n",
       "      <td>295.218951</td>\n",
       "      <td>303.861575</td>\n",
       "      <td>12876600.0</td>\n",
       "      <td>295.941242</td>\n",
       "    </tr>\n",
       "    <tr>\n",
       "      <th>2010-01-08</th>\n",
       "      <td>294.895159</td>\n",
       "      <td>293.455551</td>\n",
       "      <td>300.499172</td>\n",
       "      <td>9483900.0</td>\n",
       "      <td>299.886470</td>\n",
       "    </tr>\n",
       "  </tbody>\n",
       "</table>\n",
       "</div>"
      ],
      "text/plain": [
       "                  open         low     ...          volume   adj close\n",
       "date                                   ...                            \n",
       "2010-01-04  312.304948  310.955001     ...       3927000.0  312.205308\n",
       "2010-01-05  312.419511  309.610028     ...       6031900.0  310.830459\n",
       "2010-01-06  311.761979  302.048370     ...       7987100.0  302.994813\n",
       "2010-01-07  303.562685  295.218951     ...      12876600.0  295.941242\n",
       "2010-01-08  294.895159  293.455551     ...       9483900.0  299.886470\n",
       "\n",
       "[5 rows x 5 columns]"
      ]
     },
     "execution_count": 6,
     "metadata": {},
     "output_type": "execute_result"
    }
   ],
   "source": [
    "df = df[df.symbol == 'GOOG']\n",
    "df.drop(['symbol'],1,inplace=True)\n",
    "df.head()"
   ]
  },
  {
   "cell_type": "markdown",
   "metadata": {
    "_cell_guid": "7f9cab92-a31c-034a-df07-7bc7d6591668"
   },
   "source": [
    "# Normalize the data"
   ]
  },
  {
   "cell_type": "code",
   "execution_count": 7,
   "metadata": {
    "_cell_guid": "a6052d2e-f656-543b-90cc-9f85b9837bac"
   },
   "outputs": [
    {
     "data": {
      "text/html": [
       "<div>\n",
       "<style scoped>\n",
       "    .dataframe tbody tr th:only-of-type {\n",
       "        vertical-align: middle;\n",
       "    }\n",
       "\n",
       "    .dataframe tbody tr th {\n",
       "        vertical-align: top;\n",
       "    }\n",
       "\n",
       "    .dataframe thead th {\n",
       "        text-align: right;\n",
       "    }\n",
       "</style>\n",
       "<table border=\"1\" class=\"dataframe\">\n",
       "  <thead>\n",
       "    <tr style=\"text-align: right;\">\n",
       "      <th></th>\n",
       "      <th>open</th>\n",
       "      <th>low</th>\n",
       "      <th>high</th>\n",
       "      <th>volume</th>\n",
       "      <th>adj close</th>\n",
       "    </tr>\n",
       "    <tr>\n",
       "      <th>date</th>\n",
       "      <th></th>\n",
       "      <th></th>\n",
       "      <th></th>\n",
       "      <th></th>\n",
       "      <th></th>\n",
       "    </tr>\n",
       "  </thead>\n",
       "  <tbody>\n",
       "    <tr>\n",
       "      <th>2010-01-04</th>\n",
       "      <td>0.157047</td>\n",
       "      <td>0.161167</td>\n",
       "      <td>0.156390</td>\n",
       "      <td>0.131722</td>\n",
       "      <td>0.159399</td>\n",
       "    </tr>\n",
       "    <tr>\n",
       "      <th>2010-01-05</th>\n",
       "      <td>0.157238</td>\n",
       "      <td>0.158884</td>\n",
       "      <td>0.154995</td>\n",
       "      <td>0.202469</td>\n",
       "      <td>0.157092</td>\n",
       "    </tr>\n",
       "    <tr>\n",
       "      <th>2010-01-06</th>\n",
       "      <td>0.156140</td>\n",
       "      <td>0.146049</td>\n",
       "      <td>0.153341</td>\n",
       "      <td>0.268184</td>\n",
       "      <td>0.143942</td>\n",
       "    </tr>\n",
       "    <tr>\n",
       "      <th>2010-01-07</th>\n",
       "      <td>0.142436</td>\n",
       "      <td>0.134457</td>\n",
       "      <td>0.140094</td>\n",
       "      <td>0.432522</td>\n",
       "      <td>0.132105</td>\n",
       "    </tr>\n",
       "    <tr>\n",
       "      <th>2010-01-08</th>\n",
       "      <td>0.127950</td>\n",
       "      <td>0.131464</td>\n",
       "      <td>0.134455</td>\n",
       "      <td>0.318492</td>\n",
       "      <td>0.138726</td>\n",
       "    </tr>\n",
       "  </tbody>\n",
       "</table>\n",
       "</div>"
      ],
      "text/plain": [
       "                open       low      high    volume  adj close\n",
       "date                                                         \n",
       "2010-01-04  0.157047  0.161167  0.156390  0.131722   0.159399\n",
       "2010-01-05  0.157238  0.158884  0.154995  0.202469   0.157092\n",
       "2010-01-06  0.156140  0.146049  0.153341  0.268184   0.143942\n",
       "2010-01-07  0.142436  0.134457  0.140094  0.432522   0.132105\n",
       "2010-01-08  0.127950  0.131464  0.134455  0.318492   0.138726"
      ]
     },
     "execution_count": 7,
     "metadata": {},
     "output_type": "execute_result"
    }
   ],
   "source": [
    "def normalize_data(df):\n",
    "    min_max_scaler = preprocessing.MinMaxScaler()\n",
    "    df['open'] = min_max_scaler.fit_transform(df.open.values.reshape(-1,1))\n",
    "    df['high'] = min_max_scaler.fit_transform(df.high.values.reshape(-1,1))\n",
    "    df['low'] = min_max_scaler.fit_transform(df.low.values.reshape(-1,1))\n",
    "    df['volume'] = min_max_scaler.fit_transform(df.volume.values.reshape(-1,1))\n",
    "    df['adj close'] = min_max_scaler.fit_transform(df['adj close'].values.reshape(-1,1))\n",
    "    return df\n",
    "df = normalize_data(df)\n",
    "df.head()"
   ]
  },
  {
   "cell_type": "markdown",
   "metadata": {
    "_cell_guid": "cda2ae07-6030-3cfc-7786-8557891c0fb7"
   },
   "source": [
    "# Create training set and testing set"
   ]
  },
  {
   "cell_type": "code",
   "execution_count": 8,
   "metadata": {
    "_cell_guid": "27bca4c4-cd5f-23a3-2e3f-53433cf2dd96"
   },
   "outputs": [],
   "source": [
    "def load_data(stock, seq_len):\n",
    "    amount_of_features = len(stock.columns) # 5\n",
    "    data = stock.as_matrix() \n",
    "    sequence_length = seq_len + 1 # index starting from 0\n",
    "    result = []\n",
    "    \n",
    "    for index in range(len(data) - sequence_length): # maxmimum date = lastest date - sequence length\n",
    "        result.append(data[index: index + sequence_length]) # index : index + 22days\n",
    "    \n",
    "    result = np.array(result)\n",
    "    row = round(0.9 * result.shape[0]) # 90% split\n",
    "    train = result[:int(row), :] # 90% date, all features \n",
    "    \n",
    "    x_train = train[:, :-1] \n",
    "    y_train = train[:, -1][:,-1]\n",
    "    \n",
    "    x_test = result[int(row):, :-1] \n",
    "    y_test = result[int(row):, -1][:,-1]\n",
    "\n",
    "    x_train = np.reshape(x_train, (x_train.shape[0], x_train.shape[1], amount_of_features))\n",
    "    x_test = np.reshape(x_test, (x_test.shape[0], x_test.shape[1], amount_of_features))  \n",
    "\n",
    "    return [x_train, y_train, x_test, y_test]"
   ]
  },
  {
   "cell_type": "markdown",
   "metadata": {
    "_cell_guid": "9cbdcc33-fb39-0ee8-2604-d47c6d2e1b92"
   },
   "source": [
    "# Build the structure of model\n",
    "\n",
    "Based on my hyperparameter testing on [here][1]. I found that these parameters are the most suitable for this task.\n",
    "\n",
    "![dropout = 0.3][2]\n",
    "![epochs = 90][3]\n",
    "![LSTM 256 > LSTM 256 > Relu 32 > Linear 1][4]\n",
    "\n",
    "\n",
    "\n",
    "  [1]: https://github.com/BenjiKCF/Neural-Network-with-Financial-Time-Series-Data\n",
    "  [2]: https://github.com/BenjiKCF/Neural-Network-with-Financial-Time-Series-Data/blob/master/dropout.png?raw=true\n",
    "  [3]: https://github.com/BenjiKCF/Neural-Network-with-Financial-Time-Series-Data/blob/master/epochs2.png?raw=true\n",
    "  [4]: https://github.com/BenjiKCF/Neural-Network-with-Financial-Time-Series-Data/blob/master/neurons.png?raw=true"
   ]
  },
  {
   "cell_type": "code",
   "execution_count": 9,
   "metadata": {
    "_cell_guid": "17b0bf0c-5b76-9052-ecd3-b9f99ba3da94"
   },
   "outputs": [],
   "source": [
    "def build_model(layers):\n",
    "    d = 0.3\n",
    "    model = Sequential()\n",
    "    \n",
    "    model.add(LSTM(256, input_shape=(layers[1], layers[0]), return_sequences=True))\n",
    "    model.add(Dropout(d))\n",
    "        \n",
    "    model.add(LSTM(256, input_shape=(layers[1], layers[0]), return_sequences=False))\n",
    "    model.add(Dropout(d))\n",
    "        \n",
    "    model.add(Dense(32,kernel_initializer=\"uniform\",activation='relu'))        \n",
    "    model.add(Dense(1,kernel_initializer=\"uniform\",activation='linear'))\n",
    "    \n",
    "    # adam = keras.optimizers.Adam(decay=0.2)\n",
    "        \n",
    "    start = time.time()\n",
    "    model.compile(loss='mse',optimizer='adam', metrics=['accuracy'])\n",
    "    print(\"Compilation Time : \", time.time() - start)\n",
    "    return model"
   ]
  },
  {
   "cell_type": "markdown",
   "metadata": {
    "_cell_guid": "ca28b9e0-390f-5368-b043-00d0fc4f1b2a"
   },
   "source": [
    "# Train the model"
   ]
  },
  {
   "cell_type": "code",
   "execution_count": 10,
   "metadata": {
    "_cell_guid": "c3c292d2-bd7b-6e7f-bbba-39b64860ba20"
   },
   "outputs": [
    {
     "name": "stdout",
     "output_type": "stream",
     "text": [
      "[[0.15704696 0.16116746 0.15638998 0.1317225  0.15939908]\n",
      " [0.15723843 0.15888449 0.15499506 0.20246902 0.15709185]\n",
      " [0.15613951 0.14604929 0.15334121 0.26818406 0.14394234]\n",
      " [0.14243617 0.13445699 0.14009362 0.43252209 0.13210528]\n",
      " [0.12795029 0.13146379 0.13445546 0.3184921  0.13872603]\n",
      " [0.13832355 0.1356323  0.13546617 0.48640628 0.1379653 ]\n",
      " [0.13265404 0.13052526 0.13020388 0.3271972  0.12907917]\n",
      " [0.11503787 0.1186032  0.12203482 0.43807453 0.12624527]\n",
      " [0.12120685 0.12613696 0.12689613 0.2858228  0.12855249]\n",
      " [0.12906589 0.12210374 0.12636158 0.36641044 0.12031836]\n",
      " [0.11895908 0.12062405 0.12373877 0.29099208 0.12668832]\n",
      " [0.12293853 0.11977851 0.12003013 0.21906583 0.12066114]\n",
      " [0.12082392 0.1172081  0.12073176 0.42532947 0.1228095 ]\n",
      " [0.10505596 0.0855935  0.10718348 0.45857351 0.09524822]\n",
      " [0.09014547 0.08614311 0.08987641 0.29795279 0.08688037]\n",
      " [0.08296912 0.08680264 0.08964255 0.29361033 0.08890336]\n",
      " [0.08571648 0.08597403 0.08801372 0.26721945 0.08863587]\n",
      " [0.08839717 0.08199153 0.08747078 0.21760714 0.08210705]\n",
      " [0.08340204 0.0777723  0.08245074 0.27910072 0.07847068]\n",
      " [0.08016357 0.08173786 0.07812399 0.15159969 0.0810454 ]\n",
      " [0.08046326 0.07946339 0.07741402 0.27611276 0.07945711]\n",
      " [0.07522667 0.07998762 0.08337794 0.20208586 0.08756581]] 0.07582908201368749\n"
     ]
    },
    {
     "name": "stderr",
     "output_type": "stream",
     "text": [
      "/opt/conda/lib/python3.6/site-packages/ipykernel_launcher.py:3: FutureWarning: Method .as_matrix will be removed in a future version. Use .values instead.\n",
      "  This is separate from the ipykernel package so we can avoid doing imports until\n"
     ]
    }
   ],
   "source": [
    "window = 22\n",
    "X_train, y_train, X_test, y_test = load_data(df, window)\n",
    "print (X_train[0], y_train[0])"
   ]
  },
  {
   "cell_type": "code",
   "execution_count": 11,
   "metadata": {
    "_cell_guid": "212f77cd-fdeb-40df-595b-d6de775610f8"
   },
   "outputs": [
    {
     "name": "stdout",
     "output_type": "stream",
     "text": [
      "WARNING:tensorflow:From /opt/conda/lib/python3.6/site-packages/tensorflow/python/framework/op_def_library.py:263: colocate_with (from tensorflow.python.framework.ops) is deprecated and will be removed in a future version.\n",
      "Instructions for updating:\n",
      "Colocations handled automatically by placer.\n",
      "WARNING:tensorflow:From /opt/conda/lib/python3.6/site-packages/keras/backend/tensorflow_backend.py:3445: calling dropout (from tensorflow.python.ops.nn_ops) with keep_prob is deprecated and will be removed in a future version.\n",
      "Instructions for updating:\n",
      "Please use `rate` instead of `keep_prob`. Rate should be set to `rate = 1 - keep_prob`.\n",
      "Compilation Time :  0.038523197174072266\n"
     ]
    }
   ],
   "source": [
    "model = build_model([5,window,1])"
   ]
  },
  {
   "cell_type": "code",
   "execution_count": 12,
   "metadata": {
    "_cell_guid": "886256b4-7578-d3a5-6cf0-ae394e3339ca"
   },
   "outputs": [
    {
     "name": "stdout",
     "output_type": "stream",
     "text": [
      "WARNING:tensorflow:From /opt/conda/lib/python3.6/site-packages/tensorflow/python/ops/math_ops.py:3066: to_int32 (from tensorflow.python.ops.math_ops) is deprecated and will be removed in a future version.\n",
      "Instructions for updating:\n",
      "Use tf.cast instead.\n",
      "Train on 1408 samples, validate on 157 samples\n",
      "Epoch 1/90\n",
      "1408/1408 [==============================] - 4s 3ms/step - loss: 0.1276 - acc: 7.1023e-04 - val_loss: 0.5037 - val_acc: 0.0000e+00\n",
      "Epoch 2/90\n",
      "1408/1408 [==============================] - 2s 2ms/step - loss: 0.0602 - acc: 7.1023e-04 - val_loss: 0.0353 - val_acc: 0.0000e+00\n",
      "Epoch 3/90\n",
      "1408/1408 [==============================] - 2s 2ms/step - loss: 0.0329 - acc: 7.1023e-04 - val_loss: 0.1290 - val_acc: 0.0000e+00\n",
      "Epoch 4/90\n",
      "1408/1408 [==============================] - 2s 2ms/step - loss: 0.0158 - acc: 7.1023e-04 - val_loss: 0.1902 - val_acc: 0.0000e+00\n",
      "Epoch 5/90\n",
      "1408/1408 [==============================] - 2s 2ms/step - loss: 0.0158 - acc: 7.1023e-04 - val_loss: 0.0880 - val_acc: 0.0000e+00\n",
      "Epoch 6/90\n",
      "1408/1408 [==============================] - 2s 2ms/step - loss: 0.0067 - acc: 7.1023e-04 - val_loss: 0.0303 - val_acc: 0.0000e+00\n",
      "Epoch 7/90\n",
      "1408/1408 [==============================] - 2s 2ms/step - loss: 0.0073 - acc: 7.1023e-04 - val_loss: 0.0538 - val_acc: 0.0000e+00\n",
      "Epoch 8/90\n",
      "1408/1408 [==============================] - 2s 2ms/step - loss: 0.0037 - acc: 7.1023e-04 - val_loss: 0.0709 - val_acc: 0.0000e+00\n",
      "Epoch 9/90\n",
      "1408/1408 [==============================] - 2s 2ms/step - loss: 0.0047 - acc: 7.1023e-04 - val_loss: 0.0324 - val_acc: 0.0000e+00\n",
      "Epoch 10/90\n",
      "1408/1408 [==============================] - 2s 2ms/step - loss: 0.0033 - acc: 7.1023e-04 - val_loss: 0.0197 - val_acc: 0.0000e+00\n",
      "Epoch 11/90\n",
      "1408/1408 [==============================] - 2s 2ms/step - loss: 0.0032 - acc: 7.1023e-04 - val_loss: 0.0421 - val_acc: 0.0000e+00\n",
      "Epoch 12/90\n",
      "1408/1408 [==============================] - 2s 2ms/step - loss: 0.0025 - acc: 7.1023e-04 - val_loss: 0.0542 - val_acc: 0.0000e+00\n",
      "Epoch 13/90\n",
      "1408/1408 [==============================] - 2s 2ms/step - loss: 0.0023 - acc: 7.1023e-04 - val_loss: 0.0384 - val_acc: 0.0000e+00\n",
      "Epoch 14/90\n",
      "1408/1408 [==============================] - 2s 2ms/step - loss: 0.0019 - acc: 7.1023e-04 - val_loss: 0.0326 - val_acc: 0.0000e+00\n",
      "Epoch 15/90\n",
      "1408/1408 [==============================] - 2s 2ms/step - loss: 0.0019 - acc: 7.1023e-04 - val_loss: 0.0430 - val_acc: 0.0000e+00\n",
      "Epoch 16/90\n",
      "1408/1408 [==============================] - 2s 2ms/step - loss: 0.0017 - acc: 7.1023e-04 - val_loss: 0.0438 - val_acc: 0.0000e+00\n",
      "Epoch 17/90\n",
      "1408/1408 [==============================] - 2s 2ms/step - loss: 0.0017 - acc: 7.1023e-04 - val_loss: 0.0297 - val_acc: 0.0000e+00\n",
      "Epoch 18/90\n",
      "1408/1408 [==============================] - 2s 2ms/step - loss: 0.0016 - acc: 7.1023e-04 - val_loss: 0.0268 - val_acc: 0.0000e+00\n",
      "Epoch 19/90\n",
      "1408/1408 [==============================] - 2s 2ms/step - loss: 0.0013 - acc: 7.1023e-04 - val_loss: 0.0296 - val_acc: 0.0000e+00\n",
      "Epoch 20/90\n",
      "1408/1408 [==============================] - 2s 2ms/step - loss: 0.0015 - acc: 7.1023e-04 - val_loss: 0.0221 - val_acc: 0.0000e+00\n",
      "Epoch 21/90\n",
      "1408/1408 [==============================] - 2s 2ms/step - loss: 0.0013 - acc: 7.1023e-04 - val_loss: 0.0191 - val_acc: 0.0000e+00\n",
      "Epoch 22/90\n",
      "1408/1408 [==============================] - 2s 2ms/step - loss: 0.0013 - acc: 7.1023e-04 - val_loss: 0.0225 - val_acc: 0.0000e+00\n",
      "Epoch 23/90\n",
      "1408/1408 [==============================] - 2s 2ms/step - loss: 0.0013 - acc: 7.1023e-04 - val_loss: 0.0189 - val_acc: 0.0000e+00\n",
      "Epoch 24/90\n",
      "1408/1408 [==============================] - 2s 2ms/step - loss: 0.0012 - acc: 7.1023e-04 - val_loss: 0.0171 - val_acc: 0.0000e+00\n",
      "Epoch 25/90\n",
      "1408/1408 [==============================] - 2s 2ms/step - loss: 0.0012 - acc: 7.1023e-04 - val_loss: 0.0201 - val_acc: 0.0000e+00\n",
      "Epoch 26/90\n",
      "1408/1408 [==============================] - 2s 2ms/step - loss: 0.0014 - acc: 7.1023e-04 - val_loss: 0.0171 - val_acc: 0.0000e+00\n",
      "Epoch 27/90\n",
      "1408/1408 [==============================] - 2s 2ms/step - loss: 0.0013 - acc: 7.1023e-04 - val_loss: 0.0150 - val_acc: 0.0000e+00\n",
      "Epoch 28/90\n",
      "1408/1408 [==============================] - 2s 2ms/step - loss: 0.0013 - acc: 7.1023e-04 - val_loss: 0.0183 - val_acc: 0.0000e+00\n",
      "Epoch 29/90\n",
      "1408/1408 [==============================] - 2s 2ms/step - loss: 0.0013 - acc: 7.1023e-04 - val_loss: 0.0136 - val_acc: 0.0000e+00\n",
      "Epoch 30/90\n",
      "1408/1408 [==============================] - 2s 2ms/step - loss: 0.0013 - acc: 7.1023e-04 - val_loss: 0.0151 - val_acc: 0.0000e+00\n",
      "Epoch 31/90\n",
      "1408/1408 [==============================] - 2s 2ms/step - loss: 0.0013 - acc: 7.1023e-04 - val_loss: 0.0147 - val_acc: 0.0000e+00\n",
      "Epoch 32/90\n",
      "1408/1408 [==============================] - 2s 2ms/step - loss: 0.0012 - acc: 7.1023e-04 - val_loss: 0.0128 - val_acc: 0.0000e+00\n",
      "Epoch 33/90\n",
      "1408/1408 [==============================] - 2s 2ms/step - loss: 0.0013 - acc: 7.1023e-04 - val_loss: 0.0154 - val_acc: 0.0000e+00\n",
      "Epoch 34/90\n",
      "1408/1408 [==============================] - 2s 2ms/step - loss: 0.0012 - acc: 7.1023e-04 - val_loss: 0.0114 - val_acc: 0.0000e+00\n",
      "Epoch 35/90\n",
      "1408/1408 [==============================] - 2s 2ms/step - loss: 0.0012 - acc: 7.1023e-04 - val_loss: 0.0144 - val_acc: 0.0000e+00\n",
      "Epoch 36/90\n",
      "1408/1408 [==============================] - 2s 2ms/step - loss: 0.0012 - acc: 7.1023e-04 - val_loss: 0.0119 - val_acc: 0.0000e+00\n",
      "Epoch 37/90\n",
      "1408/1408 [==============================] - 2s 2ms/step - loss: 0.0012 - acc: 7.1023e-04 - val_loss: 0.0125 - val_acc: 0.0000e+00\n",
      "Epoch 38/90\n",
      "1408/1408 [==============================] - 2s 2ms/step - loss: 0.0012 - acc: 7.1023e-04 - val_loss: 0.0129 - val_acc: 0.0000e+00\n",
      "Epoch 39/90\n",
      "1408/1408 [==============================] - 2s 2ms/step - loss: 0.0012 - acc: 7.1023e-04 - val_loss: 0.0111 - val_acc: 0.0000e+00\n",
      "Epoch 40/90\n",
      "1408/1408 [==============================] - 2s 2ms/step - loss: 0.0011 - acc: 7.1023e-04 - val_loss: 0.0132 - val_acc: 0.0000e+00\n",
      "Epoch 41/90\n",
      "1408/1408 [==============================] - 2s 2ms/step - loss: 0.0012 - acc: 7.1023e-04 - val_loss: 0.0103 - val_acc: 0.0000e+00\n",
      "Epoch 42/90\n",
      "1408/1408 [==============================] - 2s 2ms/step - loss: 0.0011 - acc: 7.1023e-04 - val_loss: 0.0119 - val_acc: 0.0000e+00\n",
      "Epoch 43/90\n",
      "1408/1408 [==============================] - 2s 2ms/step - loss: 0.0011 - acc: 7.1023e-04 - val_loss: 0.0102 - val_acc: 0.0000e+00\n",
      "Epoch 44/90\n",
      "1408/1408 [==============================] - 2s 2ms/step - loss: 0.0012 - acc: 7.1023e-04 - val_loss: 0.0098 - val_acc: 0.0000e+00\n",
      "Epoch 45/90\n",
      "1408/1408 [==============================] - 2s 2ms/step - loss: 0.0011 - acc: 7.1023e-04 - val_loss: 0.0112 - val_acc: 0.0000e+00\n",
      "Epoch 46/90\n",
      "1408/1408 [==============================] - 2s 2ms/step - loss: 0.0011 - acc: 7.1023e-04 - val_loss: 0.0092 - val_acc: 0.0000e+00\n",
      "Epoch 47/90\n",
      "1408/1408 [==============================] - 2s 2ms/step - loss: 0.0011 - acc: 7.1023e-04 - val_loss: 0.0106 - val_acc: 0.0000e+00\n",
      "Epoch 48/90\n",
      "1408/1408 [==============================] - 2s 2ms/step - loss: 0.0011 - acc: 7.1023e-04 - val_loss: 0.0089 - val_acc: 0.0000e+00\n",
      "Epoch 49/90\n",
      "1408/1408 [==============================] - 2s 2ms/step - loss: 0.0011 - acc: 7.1023e-04 - val_loss: 0.0101 - val_acc: 0.0000e+00\n",
      "Epoch 50/90\n",
      "1408/1408 [==============================] - 2s 2ms/step - loss: 0.0011 - acc: 7.1023e-04 - val_loss: 0.0087 - val_acc: 0.0000e+00\n",
      "Epoch 51/90\n",
      "1408/1408 [==============================] - 2s 2ms/step - loss: 0.0012 - acc: 7.1023e-04 - val_loss: 0.0110 - val_acc: 0.0000e+00\n",
      "Epoch 52/90\n",
      "1408/1408 [==============================] - 2s 2ms/step - loss: 0.0011 - acc: 7.1023e-04 - val_loss: 0.0078 - val_acc: 0.0000e+00\n",
      "Epoch 53/90\n",
      "1408/1408 [==============================] - 2s 2ms/step - loss: 0.0011 - acc: 7.1023e-04 - val_loss: 0.0102 - val_acc: 0.0000e+00\n",
      "Epoch 54/90\n",
      "1408/1408 [==============================] - 2s 2ms/step - loss: 0.0011 - acc: 7.1023e-04 - val_loss: 0.0082 - val_acc: 0.0000e+00\n",
      "Epoch 55/90\n",
      "1408/1408 [==============================] - 2s 2ms/step - loss: 0.0010 - acc: 7.1023e-04 - val_loss: 0.0085 - val_acc: 0.0000e+00\n",
      "Epoch 56/90\n",
      "1408/1408 [==============================] - 2s 2ms/step - loss: 0.0010 - acc: 7.1023e-04 - val_loss: 0.0088 - val_acc: 0.0000e+00\n",
      "Epoch 57/90\n",
      "1408/1408 [==============================] - 2s 2ms/step - loss: 9.7868e-04 - acc: 7.1023e-04 - val_loss: 0.0086 - val_acc: 0.0000e+00\n",
      "Epoch 58/90\n",
      "1408/1408 [==============================] - 2s 2ms/step - loss: 0.0010 - acc: 7.1023e-04 - val_loss: 0.0072 - val_acc: 0.0000e+00\n",
      "Epoch 59/90\n",
      "1408/1408 [==============================] - 2s 2ms/step - loss: 0.0010 - acc: 7.1023e-04 - val_loss: 0.0089 - val_acc: 0.0000e+00\n",
      "Epoch 60/90\n",
      "1408/1408 [==============================] - 2s 2ms/step - loss: 9.3987e-04 - acc: 7.1023e-04 - val_loss: 0.0076 - val_acc: 0.0000e+00\n",
      "Epoch 61/90\n",
      "1408/1408 [==============================] - 2s 2ms/step - loss: 0.0010 - acc: 7.1023e-04 - val_loss: 0.0084 - val_acc: 0.0000e+00\n",
      "Epoch 62/90\n",
      "1408/1408 [==============================] - 2s 2ms/step - loss: 0.0010 - acc: 7.1023e-04 - val_loss: 0.0064 - val_acc: 0.0000e+00\n",
      "Epoch 63/90\n",
      "1408/1408 [==============================] - 2s 2ms/step - loss: 9.6569e-04 - acc: 7.1023e-04 - val_loss: 0.0089 - val_acc: 0.0000e+00\n",
      "Epoch 64/90\n",
      "1408/1408 [==============================] - 2s 2ms/step - loss: 9.7750e-04 - acc: 7.1023e-04 - val_loss: 0.0056 - val_acc: 0.0000e+00\n",
      "Epoch 65/90\n",
      "1408/1408 [==============================] - 2s 2ms/step - loss: 0.0010 - acc: 7.1023e-04 - val_loss: 0.0082 - val_acc: 0.0000e+00\n",
      "Epoch 66/90\n",
      "1408/1408 [==============================] - 2s 2ms/step - loss: 9.8758e-04 - acc: 7.1023e-04 - val_loss: 0.0076 - val_acc: 0.0000e+00\n",
      "Epoch 67/90\n",
      "1408/1408 [==============================] - 2s 2ms/step - loss: 0.0010 - acc: 7.1023e-04 - val_loss: 0.0065 - val_acc: 0.0000e+00\n",
      "Epoch 68/90\n",
      "1408/1408 [==============================] - 2s 2ms/step - loss: 9.4205e-04 - acc: 7.1023e-04 - val_loss: 0.0073 - val_acc: 0.0000e+00\n",
      "Epoch 69/90\n",
      "1408/1408 [==============================] - 2s 2ms/step - loss: 9.2784e-04 - acc: 7.1023e-04 - val_loss: 0.0068 - val_acc: 0.0000e+00\n",
      "Epoch 70/90\n",
      "1408/1408 [==============================] - 2s 2ms/step - loss: 8.8207e-04 - acc: 7.1023e-04 - val_loss: 0.0067 - val_acc: 0.0000e+00\n",
      "Epoch 71/90\n",
      "1408/1408 [==============================] - 2s 2ms/step - loss: 9.3833e-04 - acc: 7.1023e-04 - val_loss: 0.0062 - val_acc: 0.0000e+00\n",
      "Epoch 72/90\n",
      "1408/1408 [==============================] - 2s 2ms/step - loss: 8.9338e-04 - acc: 7.1023e-04 - val_loss: 0.0053 - val_acc: 0.0000e+00\n",
      "Epoch 73/90\n",
      "1408/1408 [==============================] - 2s 2ms/step - loss: 9.4135e-04 - acc: 7.1023e-04 - val_loss: 0.0068 - val_acc: 0.0000e+00\n",
      "Epoch 74/90\n",
      "1408/1408 [==============================] - 2s 2ms/step - loss: 9.7402e-04 - acc: 7.1023e-04 - val_loss: 0.0050 - val_acc: 0.0000e+00\n",
      "Epoch 75/90\n",
      "1408/1408 [==============================] - 2s 2ms/step - loss: 9.7360e-04 - acc: 7.1023e-04 - val_loss: 0.0047 - val_acc: 0.0000e+00\n",
      "Epoch 76/90\n",
      "1408/1408 [==============================] - 2s 2ms/step - loss: 9.1533e-04 - acc: 7.1023e-04 - val_loss: 0.0092 - val_acc: 0.0000e+00\n",
      "Epoch 77/90\n",
      "1408/1408 [==============================] - 2s 2ms/step - loss: 9.4600e-04 - acc: 7.1023e-04 - val_loss: 0.0057 - val_acc: 0.0000e+00\n",
      "Epoch 78/90\n",
      "1408/1408 [==============================] - 2s 2ms/step - loss: 8.8224e-04 - acc: 7.1023e-04 - val_loss: 0.0068 - val_acc: 0.0000e+00\n",
      "Epoch 79/90\n",
      "1408/1408 [==============================] - 2s 2ms/step - loss: 8.9048e-04 - acc: 7.1023e-04 - val_loss: 0.0073 - val_acc: 0.0000e+00\n",
      "Epoch 80/90\n",
      "1408/1408 [==============================] - 2s 2ms/step - loss: 9.6166e-04 - acc: 7.1023e-04 - val_loss: 0.0058 - val_acc: 0.0000e+00\n",
      "Epoch 81/90\n",
      "1408/1408 [==============================] - 2s 2ms/step - loss: 8.9822e-04 - acc: 7.1023e-04 - val_loss: 0.0057 - val_acc: 0.0000e+00\n",
      "Epoch 82/90\n",
      "1408/1408 [==============================] - 2s 2ms/step - loss: 8.7886e-04 - acc: 7.1023e-04 - val_loss: 0.0057 - val_acc: 0.0000e+00\n",
      "Epoch 83/90\n",
      "1408/1408 [==============================] - 2s 2ms/step - loss: 8.7790e-04 - acc: 7.1023e-04 - val_loss: 0.0046 - val_acc: 0.0000e+00\n",
      "Epoch 84/90\n",
      "1408/1408 [==============================] - 2s 2ms/step - loss: 9.4410e-04 - acc: 7.1023e-04 - val_loss: 0.0035 - val_acc: 0.0000e+00\n",
      "Epoch 85/90\n",
      "1408/1408 [==============================] - 2s 2ms/step - loss: 8.9646e-04 - acc: 7.1023e-04 - val_loss: 0.0059 - val_acc: 0.0000e+00\n",
      "Epoch 86/90\n",
      "1408/1408 [==============================] - 2s 2ms/step - loss: 8.5115e-04 - acc: 7.1023e-04 - val_loss: 0.0064 - val_acc: 0.0000e+00\n",
      "Epoch 87/90\n",
      "1408/1408 [==============================] - 2s 2ms/step - loss: 9.0487e-04 - acc: 7.1023e-04 - val_loss: 0.0062 - val_acc: 0.0000e+00\n",
      "Epoch 88/90\n",
      "1408/1408 [==============================] - 2s 2ms/step - loss: 8.2505e-04 - acc: 7.1023e-04 - val_loss: 0.0039 - val_acc: 0.0000e+00\n",
      "Epoch 89/90\n",
      "1408/1408 [==============================] - 2s 2ms/step - loss: 8.7024e-04 - acc: 7.1023e-04 - val_loss: 0.0053 - val_acc: 0.0000e+00\n",
      "Epoch 90/90\n",
      "1408/1408 [==============================] - 2s 2ms/step - loss: 8.5393e-04 - acc: 7.1023e-04 - val_loss: 0.0059 - val_acc: 0.0000e+00\n"
     ]
    },
    {
     "data": {
      "text/plain": [
       "<keras.callbacks.History at 0x7f99cd30d828>"
      ]
     },
     "execution_count": 12,
     "metadata": {},
     "output_type": "execute_result"
    }
   ],
   "source": [
    "model.fit(X_train,y_train,batch_size=512,epochs=90,validation_split=0.1,verbose=1)"
   ]
  },
  {
   "cell_type": "code",
   "execution_count": 13,
   "metadata": {
    "_cell_guid": "52177800-ffc4-dfd5-c915-46d98f941ca7"
   },
   "outputs": [
    {
     "name": "stdout",
     "output_type": "stream",
     "text": [
      "(174, 1)\n"
     ]
    }
   ],
   "source": [
    "# print(X_test[-1])\n",
    "diff=[]\n",
    "ratio=[]\n",
    "p = model.predict(X_test)\n",
    "print (p.shape)\n",
    "# for each data index in test data\n",
    "for u in range(len(y_test)):\n",
    "    # pr = prediction day u\n",
    "    pr = p[u][0]\n",
    "    # (y_test day u / pr) - 1\n",
    "    ratio.append((y_test[u]/pr)-1)\n",
    "    diff.append(abs(y_test[u]- pr))\n",
    "    # print(u, y_test[u], pr, (y_test[u]/pr)-1, abs(y_test[u]- pr))\n",
    "    # Last day prediction\n",
    "    # print(p[-1]) "
   ]
  },
  {
   "cell_type": "markdown",
   "metadata": {
    "_cell_guid": "fc1b3c69-d033-e7c1-9ff3-04cefd5d9940"
   },
   "source": [
    "# Denormalize the data"
   ]
  },
  {
   "cell_type": "code",
   "execution_count": 14,
   "metadata": {
    "_cell_guid": "fb935328-2516-89a0-e555-bdc5b289dac9"
   },
   "outputs": [],
   "source": [
    "df = pd.read_csv(\"../input/prices-split-adjusted.csv\", index_col = 0)\n",
    "df[\"adj close\"] = df.close # Moving close to the last column\n",
    "df.drop(['close'], 1, inplace=True) # Moving close to the last column\n",
    "df = df[df.symbol == 'GOOG']\n",
    "df.drop(['symbol'],1,inplace=True)\n",
    "\n",
    "# Bug fixed at here, please update the denormalize function to this one\n",
    "def denormalize(df, normalized_value): \n",
    "    df = df['adj close'].values.reshape(-1,1)\n",
    "    normalized_value = normalized_value.reshape(-1,1)\n",
    "    \n",
    "    #return df.shape, p.shape\n",
    "    min_max_scaler = preprocessing.MinMaxScaler()\n",
    "    a = min_max_scaler.fit_transform(df)\n",
    "    new = min_max_scaler.inverse_transform(normalized_value)\n",
    "    return new\n",
    "\n",
    "newp = denormalize(df, p)\n",
    "newy_test = denormalize(df, y_test)"
   ]
  },
  {
   "cell_type": "code",
   "execution_count": 15,
   "metadata": {
    "_cell_guid": "2f638a96-8f36-7dc9-4118-f97e3df06705"
   },
   "outputs": [
    {
     "name": "stdout",
     "output_type": "stream",
     "text": [
      "Train Score: 0.00109 MSE (0.03 RMSE)\n",
      "Test Score: 0.00938 MSE (0.10 RMSE)\n"
     ]
    },
    {
     "data": {
      "text/plain": [
       "(0.0010917398363006667, 0.009376307392771217)"
      ]
     },
     "execution_count": 15,
     "metadata": {},
     "output_type": "execute_result"
    }
   ],
   "source": [
    "def model_score(model, X_train, y_train, X_test, y_test):\n",
    "    trainScore = model.evaluate(X_train, y_train, verbose=0)\n",
    "    print('Train Score: %.5f MSE (%.2f RMSE)' % (trainScore[0], math.sqrt(trainScore[0])))\n",
    "\n",
    "    testScore = model.evaluate(X_test, y_test, verbose=0)\n",
    "    print('Test Score: %.5f MSE (%.2f RMSE)' % (testScore[0], math.sqrt(testScore[0])))\n",
    "    return trainScore[0], testScore[0]\n",
    "\n",
    "\n",
    "model_score(model, X_train, y_train, X_test, y_test)"
   ]
  },
  {
   "cell_type": "markdown",
   "metadata": {
    "_cell_guid": "335d3b00-b700-a97f-c2ad-938949618ac7"
   },
   "source": [
    "# Since the Kaggle dataset only contains a few years, the mean square error is not as small as my original model on GitHub.\n",
    "\n",
    "With more than 40 years of data, we will get:\n",
    "\n",
    "Train Score: 0.00006 MSE (0.01 RMSE)\n",
    "\n",
    "Test Score: 0.00029 MSE (0.02 RMSE)"
   ]
  },
  {
   "cell_type": "code",
   "execution_count": 16,
   "metadata": {
    "_cell_guid": "99be25aa-e2c3-35fd-64a5-988200295018"
   },
   "outputs": [
    {
     "data": {
      "image/png": "[encoded data removed]",
      "text/plain": [
       "<Figure size 432x288 with 1 Axes>"
      ]
     },
     "metadata": {},
     "output_type": "display_data"
    }
   ],
   "source": [
    "import matplotlib.pyplot as plt2\n",
    "\n",
    "plt2.plot(newp,color='red', label='Prediction')\n",
    "plt2.plot(newy_test,color='blue', label='Actual')\n",
    "plt2.legend(loc='best')\n",
    "plt2.show()"
   ]
  },
  {
   "cell_type": "markdown",
   "metadata": {
    "_cell_guid": "a4f7f8a2-0f0a-495c-23c5-adf40fcd8c39"
   },
   "source": [
    "The result on my original model with more than 40 years of data.\n",
    "\n",
    "![Result][1]\n",
    "\n",
    " Train Score: 0.00006 MSE (0.01 RMSE)\n",
    "\n",
    "Test Score: 0.00029 MSE (0.02 RMSE)\n",
    "\n",
    "  [1]: https://github.com/BenjiKCF/Neural-Network-with-Financial-Time-Series-Data/raw/master/result2.png"
   ]
  },
  {
   "cell_type": "markdown",
   "metadata": {
    "_cell_guid": "485cfea1-9204-92b6-3cc3-2c98f8f3138d"
   },
   "source": [
    "# Thank you all for reading\n",
    " If you have any question or concern, please leave a comment. Otherwise, see you next time!"
   ]
  },
  {
   "cell_type": "code",
   "execution_count": 17,
   "metadata": {
    "_cell_guid": "a20d18af-b200-167b-8498-1e4450ac0cd6"
   },
   "outputs": [],
   "source": []
  },
  {
   "cell_type": "code",
   "execution_count": 17,
   "metadata": {
    "_cell_guid": "e2ff8e71-c6c2-8be6-3f09-ccd7ce6060c1"
   },
   "outputs": [],
   "source": []
  },
  {
   "cell_type": "code",
   "execution_count": 17,
   "metadata": {
    "_cell_guid": "a7a89691-1dbc-8eca-c83f-8d791f101aff"
   },
   "outputs": [],
   "source": []
  },
  {
   "cell_type": "code",
   "execution_count": 17,
   "metadata": {
    "_cell_guid": "fb075e10-f271-b6df-4be0-214ae0092fb7"
   },
   "outputs": [],
   "source": []
  },
  {
   "cell_type": "code",
   "execution_count": 17,
   "metadata": {
    "_cell_guid": "5bbce8a2-3ef4-ac9a-6fa0-bec57c86a64b"
   },
   "outputs": [],
   "source": []
  },
  {
   "cell_type": "code",
   "execution_count": 17,
   "metadata": {
    "_cell_guid": "b5eb2379-45c6-54e9-252d-5cd7ea150b9f"
   },
   "outputs": [],
   "source": []
  },
  {
   "cell_type": "markdown",
   "metadata": {
    "_cell_guid": "73092acc-eb54-aeb8-6616-8b1f16b0569d",
    "collapsed": true
   },
   "source": []
  },
  {
   "cell_type": "code",
   "execution_count": 17,
   "metadata": {
    "_cell_guid": "9b09a45c-0595-bc94-2ca6-d6930181b109"
   },
   "outputs": [],
   "source": []
  },
  {
   "cell_type": "code",
   "execution_count": 17,
   "metadata": {
    "_cell_guid": "16fb7e45-13e5-7fd6-dd63-2b18f0fdac30"
   },
   "outputs": [],
   "source": []
  },
  {
   "cell_type": "markdown",
   "metadata": {
    "_cell_guid": "ce0ba2d6-3f74-c2da-3363-d46d38fcdc77"
   },
   "source": []
  },
  {
   "cell_type": "code",
   "execution_count": 17,
   "metadata": {
    "_cell_guid": "6e18acc0-de77-7a74-a857-bedf2c19d9fe"
   },
   "outputs": [],
   "source": []
  },
  {
   "cell_type": "code",
   "execution_count": 17,
   "metadata": {
    "_cell_guid": "14d5f557-3767-7a6e-1992-d8a9ff78ee87"
   },
   "outputs": [],
   "source": []
  },
  {
   "cell_type": "code",
   "execution_count": 17,
   "metadata": {
    "_cell_guid": "c9bf36cd-1c14-e608-103d-05ec02f6f68f"
   },
   "outputs": [],
   "source": []
  },
  {
   "cell_type": "code",
   "execution_count": 17,
   "metadata": {
    "_cell_guid": "bac5d910-ca0d-0e21-4f88-a8c9365dfa9b",
    "collapsed": true
   },
   "outputs": [],
   "source": []
  }
 ],
 "metadata": {
  "_change_revision": 0,
  "_is_fork": false,
  "kernelspec": {
   "display_name": "Python 3",
   "language": "python",
   "name": "python3"
  },
  "language_info": {
   "codemirror_mode": {
    "name": "ipython",
    "version": 3
   },
   "file_extension": ".py",
   "mimetype": "text/x-python",
   "name": "python",
   "nbconvert_exporter": "python",
   "pygments_lexer": "ipython3",
   "version": "3.6.0"
  }
 },
 "nbformat": 4,
 "nbformat_minor": 1
}
